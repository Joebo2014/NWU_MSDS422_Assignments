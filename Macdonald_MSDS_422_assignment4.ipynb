{
  "nbformat": 4,
  "nbformat_minor": 0,
  "metadata": {
    "colab": {
      "name": "Macdonald_MSDS_422_assignment4.ipynb",
      "version": "0.3.2",
      "provenance": [],
      "collapsed_sections": [
        "T_kerSLgap03",
        "QvvU9xSAXSue",
        "Xiz__HDPclxt",
        "zshZ1bluXSuv",
        "LUy1aMj2XSu0",
        "O2rd4Rz-XSu5",
        "BawWEeCBXSvH",
        "rfQYa9nOqkE5",
        "kpk0-bsPyYL6",
        "BeYj7F1BNTkW",
        "cJLo6d15NTkb",
        "kKLXdCQaNTkd",
        "XhFCjaD2Udyu",
        "SkMYAAss40PP",
        "CA0y6hviBdNv",
        "NRHNjl6tKNQo",
        "juKgeOdMNTkr",
        "AnX3f5bhNTks"
      ],
      "include_colab_link": true
    },
    "kernelspec": {
      "display_name": "Python 3",
      "language": "python",
      "name": "python3"
    }
  },
  "cells": [
    {
      "cell_type": "markdown",
      "metadata": {
        "id": "view-in-github",
        "colab_type": "text"
      },
      "source": [
        "<a href=\"https://colab.research.google.com/github/talentrics/NWU_MSDS422_Assignments/blob/master/Macdonald_MSDS_422_assignment4.ipynb\" target=\"_parent\"><img src=\"https://colab.research.google.com/assets/colab-badge.svg\" alt=\"Open In Colab\"/></a>"
      ]
    },
    {
      "metadata": {
        "colab_type": "text",
        "id": "qNvJ8dnQXhc2"
      },
      "cell_type": "markdown",
      "source": [
        "##MSDS 422 Assignment #4 - Decision Trees & Random Forests\n",
        "\n",
        "**by Daniel Macdonald @talentrics**\n",
        "\n",
        "**Description**\n",
        "\n",
        "This is the 4th assignment in NWU MSDS 422 - Practical Machine Learning\n",
        "\n",
        "**text:** \n",
        "\n",
        "Thomas W. Miller. Marketing Data Science: Modeling Techniques in Predictive Analytics with R and Python. Pearson Education, Old Tappan, N.J., 2015. Data sets and programs available at http://www.ftpress.com/miller/ and https://github.com/mtpa/\n",
        "\n",
        "David A. Belsley, Edwin Kuh, and Roy E.Welsch. Regression Diagnostics: Identifying Influential Data and Sources of Collinearity.\n",
        "Wiley, New York, 1980.\n",
        "\n",
        "Initial source code from Aurelien Geron 'Machine Learning with SciKit Learn' Ch. 3\n",
        "https://github.com/ageron/handson-ml\n",
        "\n",
        "**Data Source (shared csv files via Google Drive)**\n",
        "\n",
        "> https://drive.google.com/file/d/17PCncc0VxBwLc-hD_mbRVQjgToaN5wfI\n",
        "\n",
        "**CoLab Shared Link - this notebook **\n",
        "\n",
        "https://colab.research.google.com/drive/1pN81K22-HYHZPMiwI28ZmMnWqRFwFlew\n",
        "\n",
        "**GitHub Repository **\n",
        "\n",
        "https://github.com/talentrics/NWU_MSDS422_Assignments\n",
        "\n",
        "**Table of contents:**\n",
        "\n",
        "* System & Data Setup\n",
        "* Data Exploration & Basic Transformation\n",
        "* Model 1 Build - no data transformation\n",
        "* Model 2 Build - log data transform\n",
        "* Conclusion"
      ]
    },
    {
      "metadata": {
        "colab_type": "text",
        "id": "T_kerSLgap03"
      },
      "cell_type": "markdown",
      "source": [
        "## System & Data Setup"
      ]
    },
    {
      "metadata": {
        "colab_type": "code",
        "id": "sopifRB_XSuW",
        "colab": {}
      },
      "cell_type": "code",
      "source": [
        "# seed value for random number generators to obtain reproducible results\n",
        "RANDOM_SEED = 1\n",
        "\n",
        "# although we standardize X and y variables on input,\n",
        "# we will fit the intercept term in the models\n",
        "# Expect fitted values to be close to zero\n",
        "SET_FIT_INTERCEPT = True"
      ],
      "execution_count": 0,
      "outputs": []
    },
    {
      "metadata": {
        "colab_type": "code",
        "id": "MK9NfIaxXSua",
        "colab": {
          "base_uri": "https://localhost:8080/",
          "height": 91
        },
        "outputId": "11b83bab-d773-47f7-f2fc-d14ff5e57f08"
      },
      "cell_type": "code",
      "source": [
        "# import base packages into the namespace for this program\n",
        "import numpy as np\n",
        "import pandas as pd\n",
        "\n",
        "# modeling routines from Scikit Learn packages\n",
        "import sklearn.linear_model \n",
        "from sklearn.linear_model import LinearRegression, Ridge, Lasso, ElasticNet\n",
        "from sklearn.metrics import mean_squared_error, r2_score \n",
        "from sklearn.model_selection import train_test_split\n",
        "from math import sqrt  # for root mean-squared error calculation\n",
        "import matplotlib # import matplotlib\n",
        "import matplotlib.pyplot as plt  # static plotting\n",
        "import seaborn as sns  # pretty plotting, including heat map\n",
        "\n",
        "from pandas.tools.plotting import scatter_matrix  # scatter plot matrix\n",
        "from scipy.stats import uniform  # for training-and-test split\n",
        "import statsmodels.api as sm  # statistical models (including regression)\n",
        "import statsmodels.formula.api as smf  # R-like model specification\n",
        "from sklearn.tree import DecisionTreeRegressor  # machine learning tree\n",
        "from sklearn.ensemble import RandomForestRegressor # ensemble method\n",
        "\n",
        "# suppress warning messages\n",
        "def warn(*args, **kwargs):\n",
        "    pass\n",
        "import warnings\n",
        "warnings.warn = warn"
      ],
      "execution_count": 2,
      "outputs": [
        {
          "output_type": "stream",
          "text": [
            "/usr/local/lib/python3.6/dist-packages/statsmodels/compat/pandas.py:56: FutureWarning: The pandas.core.datetools module is deprecated and will be removed in a future version. Please use the pandas.tseries module instead.\n",
            "  from pandas.core import datetools\n"
          ],
          "name": "stderr"
        }
      ]
    },
    {
      "metadata": {
        "colab_type": "code",
        "id": "hfLXvhEhbsDG",
        "colab": {}
      },
      "cell_type": "code",
      "source": [
        "#install PyDrive to pull in csv data\n",
        "!pip install -U -q PyDrive\n",
        " \n",
        "from pydrive.auth import GoogleAuth\n",
        "from pydrive.drive import GoogleDrive\n",
        "from google.colab import auth\n",
        "from oauth2client.client import GoogleCredentials\n",
        "\n",
        "# 1. Authenticate and create the PyDrive client.\n",
        "auth.authenticate_user()\n",
        "gauth = GoogleAuth()\n",
        "gauth.credentials = GoogleCredentials.get_application_default()\n",
        "drive = GoogleDrive(gauth)"
      ],
      "execution_count": 0,
      "outputs": []
    },
    {
      "metadata": {
        "id": "e0hTj7eyNcCA",
        "colab_type": "code",
        "colab": {}
      },
      "cell_type": "code",
      "source": [
        "# https://drive.google.com/file/d/17PCncc0VxBwLc-hD_mbRVQjgToaN5wfI/view?usp=sharing\n",
        "\n",
        "#download survey data from google drive\n",
        "downloaded1 = drive.CreateFile({'id': '17PCncc0VxBwLc-hD_mbRVQjgToaN5wfI'})\n",
        "downloaded1.GetContentFile('boston.csv')"
      ],
      "execution_count": 0,
      "outputs": []
    },
    {
      "metadata": {
        "id": "1gA8DNaHNcVF",
        "colab_type": "code",
        "colab": {}
      },
      "cell_type": "code",
      "source": [
        "# read data for the Boston Housing Study\n",
        "# creating data frame restdata\n",
        "boston_input = pd.read_csv('boston.csv')"
      ],
      "execution_count": 0,
      "outputs": []
    },
    {
      "metadata": {
        "id": "12ULkbq6Zlo6",
        "colab_type": "code",
        "colab": {}
      },
      "cell_type": "code",
      "source": [
        "#define function 'plot_feature_importances_boston'\n",
        "def plot_feature_importances_boston(model):\n",
        "    n_features = Log_model_X.shape[1]\n",
        "    plt.barh(np.arange(n_features), model.feature_importances_, align='center')\n",
        "    plt.yticks(np.arange(n_features), Log_model_X.columns)\n",
        "    plt.xlabel(\"Feature importance\")\n",
        "    plt.ylabel(\"Feature\")\n",
        "    plt.ylim(-1, n_features)"
      ],
      "execution_count": 0,
      "outputs": []
    },
    {
      "metadata": {
        "colab_type": "text",
        "id": "QvvU9xSAXSue"
      },
      "cell_type": "markdown",
      "source": [
        "## Data Exploration & Basic Transformation"
      ]
    },
    {
      "metadata": {
        "colab_type": "text",
        "id": "Xiz__HDPclxt"
      },
      "cell_type": "markdown",
      "source": [
        "### Basics - Data Frame, Data Types, re-name columns & replace missing values"
      ]
    },
    {
      "metadata": {
        "colab_type": "code",
        "id": "6eTBfN-oXSuf",
        "outputId": "c0392972-286a-4ac9-d8d6-60c2d7233c9d",
        "colab": {
          "base_uri": "https://localhost:8080/",
          "height": 204
        }
      },
      "cell_type": "code",
      "source": [
        "boston_input = pd.DataFrame(data=boston_input)\n",
        "boston_input.tail()"
      ],
      "execution_count": 7,
      "outputs": [
        {
          "output_type": "execute_result",
          "data": {
            "text/html": [
              "<div>\n",
              "<style scoped>\n",
              "    .dataframe tbody tr th:only-of-type {\n",
              "        vertical-align: middle;\n",
              "    }\n",
              "\n",
              "    .dataframe tbody tr th {\n",
              "        vertical-align: top;\n",
              "    }\n",
              "\n",
              "    .dataframe thead th {\n",
              "        text-align: right;\n",
              "    }\n",
              "</style>\n",
              "<table border=\"1\" class=\"dataframe\">\n",
              "  <thead>\n",
              "    <tr style=\"text-align: right;\">\n",
              "      <th></th>\n",
              "      <th>neighborhood</th>\n",
              "      <th>crim</th>\n",
              "      <th>zn</th>\n",
              "      <th>indus</th>\n",
              "      <th>chas</th>\n",
              "      <th>nox</th>\n",
              "      <th>rooms</th>\n",
              "      <th>age</th>\n",
              "      <th>dis</th>\n",
              "      <th>rad</th>\n",
              "      <th>tax</th>\n",
              "      <th>ptratio</th>\n",
              "      <th>lstat</th>\n",
              "      <th>mv</th>\n",
              "    </tr>\n",
              "  </thead>\n",
              "  <tbody>\n",
              "    <tr>\n",
              "      <th>501</th>\n",
              "      <td>Winthrop</td>\n",
              "      <td>0.06263</td>\n",
              "      <td>0.0</td>\n",
              "      <td>11.93</td>\n",
              "      <td>0</td>\n",
              "      <td>0.573</td>\n",
              "      <td>6.593</td>\n",
              "      <td>69.1</td>\n",
              "      <td>2.4786</td>\n",
              "      <td>1</td>\n",
              "      <td>273</td>\n",
              "      <td>21.0</td>\n",
              "      <td>9.67</td>\n",
              "      <td>22.4</td>\n",
              "    </tr>\n",
              "    <tr>\n",
              "      <th>502</th>\n",
              "      <td>Winthrop</td>\n",
              "      <td>0.04527</td>\n",
              "      <td>0.0</td>\n",
              "      <td>11.93</td>\n",
              "      <td>0</td>\n",
              "      <td>0.573</td>\n",
              "      <td>6.120</td>\n",
              "      <td>76.7</td>\n",
              "      <td>2.2875</td>\n",
              "      <td>1</td>\n",
              "      <td>273</td>\n",
              "      <td>21.0</td>\n",
              "      <td>9.08</td>\n",
              "      <td>20.6</td>\n",
              "    </tr>\n",
              "    <tr>\n",
              "      <th>503</th>\n",
              "      <td>Winthrop</td>\n",
              "      <td>0.06076</td>\n",
              "      <td>0.0</td>\n",
              "      <td>11.93</td>\n",
              "      <td>0</td>\n",
              "      <td>0.573</td>\n",
              "      <td>6.976</td>\n",
              "      <td>91.0</td>\n",
              "      <td>2.1675</td>\n",
              "      <td>1</td>\n",
              "      <td>273</td>\n",
              "      <td>21.0</td>\n",
              "      <td>5.64</td>\n",
              "      <td>23.9</td>\n",
              "    </tr>\n",
              "    <tr>\n",
              "      <th>504</th>\n",
              "      <td>Winthrop</td>\n",
              "      <td>0.10959</td>\n",
              "      <td>0.0</td>\n",
              "      <td>11.93</td>\n",
              "      <td>0</td>\n",
              "      <td>0.573</td>\n",
              "      <td>6.794</td>\n",
              "      <td>89.3</td>\n",
              "      <td>2.3889</td>\n",
              "      <td>1</td>\n",
              "      <td>273</td>\n",
              "      <td>21.0</td>\n",
              "      <td>6.48</td>\n",
              "      <td>22.0</td>\n",
              "    </tr>\n",
              "    <tr>\n",
              "      <th>505</th>\n",
              "      <td>Winthrop</td>\n",
              "      <td>0.04741</td>\n",
              "      <td>0.0</td>\n",
              "      <td>11.93</td>\n",
              "      <td>0</td>\n",
              "      <td>0.573</td>\n",
              "      <td>6.030</td>\n",
              "      <td>80.8</td>\n",
              "      <td>2.5050</td>\n",
              "      <td>1</td>\n",
              "      <td>273</td>\n",
              "      <td>21.0</td>\n",
              "      <td>7.88</td>\n",
              "      <td>19.0</td>\n",
              "    </tr>\n",
              "  </tbody>\n",
              "</table>\n",
              "</div>"
            ],
            "text/plain": [
              "    neighborhood     crim   zn  indus  chas    nox  rooms   age     dis  rad  \\\n",
              "501     Winthrop  0.06263  0.0  11.93     0  0.573  6.593  69.1  2.4786    1   \n",
              "502     Winthrop  0.04527  0.0  11.93     0  0.573  6.120  76.7  2.2875    1   \n",
              "503     Winthrop  0.06076  0.0  11.93     0  0.573  6.976  91.0  2.1675    1   \n",
              "504     Winthrop  0.10959  0.0  11.93     0  0.573  6.794  89.3  2.3889    1   \n",
              "505     Winthrop  0.04741  0.0  11.93     0  0.573  6.030  80.8  2.5050    1   \n",
              "\n",
              "     tax  ptratio  lstat    mv  \n",
              "501  273     21.0   9.67  22.4  \n",
              "502  273     21.0   9.08  20.6  \n",
              "503  273     21.0   5.64  23.9  \n",
              "504  273     21.0   6.48  22.0  \n",
              "505  273     21.0   7.88  19.0  "
            ]
          },
          "metadata": {
            "tags": []
          },
          "execution_count": 7
        }
      ]
    },
    {
      "metadata": {
        "colab_type": "code",
        "id": "E7ciO9b1XSuj",
        "outputId": "4023c976-0bfc-442b-87ae-450e60d3d9f5",
        "colab": {
          "base_uri": "https://localhost:8080/",
          "height": 272
        }
      },
      "cell_type": "code",
      "source": [
        "boston_input.dtypes"
      ],
      "execution_count": 8,
      "outputs": [
        {
          "output_type": "execute_result",
          "data": {
            "text/plain": [
              "neighborhood     object\n",
              "crim            float64\n",
              "zn              float64\n",
              "indus           float64\n",
              "chas              int64\n",
              "nox             float64\n",
              "rooms           float64\n",
              "age             float64\n",
              "dis             float64\n",
              "rad               int64\n",
              "tax               int64\n",
              "ptratio         float64\n",
              "lstat           float64\n",
              "mv              float64\n",
              "dtype: object"
            ]
          },
          "metadata": {
            "tags": []
          },
          "execution_count": 8
        }
      ]
    },
    {
      "metadata": {
        "colab_type": "code",
        "id": "gaDrznGUXSum",
        "colab": {}
      },
      "cell_type": "code",
      "source": [
        "boston_input['neighborhood'].value_counts(); #remove ';' if you want to see result"
      ],
      "execution_count": 0,
      "outputs": []
    },
    {
      "metadata": {
        "colab_type": "code",
        "id": "Y5Ch4szGXSuo",
        "outputId": "ebe1ad59-a5d2-4119-818d-3322dc71f168",
        "colab": {
          "base_uri": "https://localhost:8080/",
          "height": 68
        }
      },
      "cell_type": "code",
      "source": [
        "boston_input.columns"
      ],
      "execution_count": 10,
      "outputs": [
        {
          "output_type": "execute_result",
          "data": {
            "text/plain": [
              "Index(['neighborhood', 'crim', 'zn', 'indus', 'chas', 'nox', 'rooms', 'age',\n",
              "       'dis', 'rad', 'tax', 'ptratio', 'lstat', 'mv'],\n",
              "      dtype='object')"
            ]
          },
          "metadata": {
            "tags": []
          },
          "execution_count": 10
        }
      ]
    },
    {
      "metadata": {
        "colab_type": "code",
        "id": "pk8LqroKXSup",
        "outputId": "38f55543-d82e-4860-c674-0454c14f53e6",
        "colab": {
          "base_uri": "https://localhost:8080/",
          "height": 85
        }
      },
      "cell_type": "code",
      "source": [
        "# rename columns to provide more insight to data save as new DataFrame\n",
        "df_boston = boston_input.copy()\n",
        "\n",
        "df_boston = df_boston.rename(index=str, columns={\n",
        "    'crim': 'crime_rate',\n",
        "    'zn': 'zoned',\n",
        "    'indus': 'industrial',\n",
        "    'chas': 'charles_binary',\n",
        "    'rooms': 'avg_rooms',\n",
        "    'age': 'pct_pre1940',\n",
        "    'dis': 'distance_center',\n",
        "    'rad': 'highway_access',\n",
        "    'tax': 'avg_tax',\n",
        "    'lstat': 'pct_lowIncome',\n",
        "    'mv': 'response_mv'})\n",
        "\n",
        "df_boston.columns"
      ],
      "execution_count": 11,
      "outputs": [
        {
          "output_type": "execute_result",
          "data": {
            "text/plain": [
              "Index(['neighborhood', 'crime_rate', 'zoned', 'industrial', 'charles_binary',\n",
              "       'nox', 'avg_rooms', 'pct_pre1940', 'distance_center', 'highway_access',\n",
              "       'avg_tax', 'ptratio', 'pct_lowIncome', 'response_mv'],\n",
              "      dtype='object')"
            ]
          },
          "metadata": {
            "tags": []
          },
          "execution_count": 11
        }
      ]
    },
    {
      "metadata": {
        "colab_type": "code",
        "id": "3Zs8EYbKXSuu",
        "outputId": "5ece998e-7f5f-4ac0-870b-3a052b678574",
        "colab": {
          "base_uri": "https://localhost:8080/",
          "height": 297
        }
      },
      "cell_type": "code",
      "source": [
        "#replace any missing values with mean of column just in case\n",
        "\n",
        "list = ['crime_rate', 'zoned', 'industrial', 'charles_binary',\n",
        "       'nox', 'avg_rooms', 'pct_pre1940', 'distance_center', 'highway_access',\n",
        "       'avg_tax', 'ptratio', 'pct_lowIncome', 'response_mv']\n",
        "\n",
        "#loop through list of continuous variabls and fill nan values with mean value\n",
        "for i in list:\n",
        "    df_boston[i] = df_boston[i].fillna((df_boston[i].mean()))\n",
        "    \n",
        "df_boston.describe()"
      ],
      "execution_count": 12,
      "outputs": [
        {
          "output_type": "execute_result",
          "data": {
            "text/html": [
              "<div>\n",
              "<style scoped>\n",
              "    .dataframe tbody tr th:only-of-type {\n",
              "        vertical-align: middle;\n",
              "    }\n",
              "\n",
              "    .dataframe tbody tr th {\n",
              "        vertical-align: top;\n",
              "    }\n",
              "\n",
              "    .dataframe thead th {\n",
              "        text-align: right;\n",
              "    }\n",
              "</style>\n",
              "<table border=\"1\" class=\"dataframe\">\n",
              "  <thead>\n",
              "    <tr style=\"text-align: right;\">\n",
              "      <th></th>\n",
              "      <th>crime_rate</th>\n",
              "      <th>zoned</th>\n",
              "      <th>industrial</th>\n",
              "      <th>charles_binary</th>\n",
              "      <th>nox</th>\n",
              "      <th>avg_rooms</th>\n",
              "      <th>pct_pre1940</th>\n",
              "      <th>distance_center</th>\n",
              "      <th>highway_access</th>\n",
              "      <th>avg_tax</th>\n",
              "      <th>ptratio</th>\n",
              "      <th>pct_lowIncome</th>\n",
              "      <th>response_mv</th>\n",
              "    </tr>\n",
              "  </thead>\n",
              "  <tbody>\n",
              "    <tr>\n",
              "      <th>count</th>\n",
              "      <td>506.000000</td>\n",
              "      <td>506.000000</td>\n",
              "      <td>506.000000</td>\n",
              "      <td>506.000000</td>\n",
              "      <td>506.000000</td>\n",
              "      <td>506.000000</td>\n",
              "      <td>506.000000</td>\n",
              "      <td>506.000000</td>\n",
              "      <td>506.000000</td>\n",
              "      <td>506.000000</td>\n",
              "      <td>506.000000</td>\n",
              "      <td>506.000000</td>\n",
              "      <td>506.000000</td>\n",
              "    </tr>\n",
              "    <tr>\n",
              "      <th>mean</th>\n",
              "      <td>3.613524</td>\n",
              "      <td>11.363636</td>\n",
              "      <td>11.136779</td>\n",
              "      <td>0.069170</td>\n",
              "      <td>0.554695</td>\n",
              "      <td>6.284634</td>\n",
              "      <td>68.574901</td>\n",
              "      <td>3.795043</td>\n",
              "      <td>9.549407</td>\n",
              "      <td>408.237154</td>\n",
              "      <td>18.455534</td>\n",
              "      <td>12.653063</td>\n",
              "      <td>22.528854</td>\n",
              "    </tr>\n",
              "    <tr>\n",
              "      <th>std</th>\n",
              "      <td>8.601545</td>\n",
              "      <td>23.322453</td>\n",
              "      <td>6.860353</td>\n",
              "      <td>0.253994</td>\n",
              "      <td>0.115878</td>\n",
              "      <td>0.702617</td>\n",
              "      <td>28.148861</td>\n",
              "      <td>2.105710</td>\n",
              "      <td>8.707259</td>\n",
              "      <td>168.537116</td>\n",
              "      <td>2.164946</td>\n",
              "      <td>7.141062</td>\n",
              "      <td>9.182176</td>\n",
              "    </tr>\n",
              "    <tr>\n",
              "      <th>min</th>\n",
              "      <td>0.006320</td>\n",
              "      <td>0.000000</td>\n",
              "      <td>0.460000</td>\n",
              "      <td>0.000000</td>\n",
              "      <td>0.385000</td>\n",
              "      <td>3.561000</td>\n",
              "      <td>2.900000</td>\n",
              "      <td>1.129600</td>\n",
              "      <td>1.000000</td>\n",
              "      <td>187.000000</td>\n",
              "      <td>12.600000</td>\n",
              "      <td>1.730000</td>\n",
              "      <td>5.000000</td>\n",
              "    </tr>\n",
              "    <tr>\n",
              "      <th>25%</th>\n",
              "      <td>0.082045</td>\n",
              "      <td>0.000000</td>\n",
              "      <td>5.190000</td>\n",
              "      <td>0.000000</td>\n",
              "      <td>0.449000</td>\n",
              "      <td>5.885500</td>\n",
              "      <td>45.025000</td>\n",
              "      <td>2.100175</td>\n",
              "      <td>4.000000</td>\n",
              "      <td>279.000000</td>\n",
              "      <td>17.400000</td>\n",
              "      <td>6.950000</td>\n",
              "      <td>17.025000</td>\n",
              "    </tr>\n",
              "    <tr>\n",
              "      <th>50%</th>\n",
              "      <td>0.256510</td>\n",
              "      <td>0.000000</td>\n",
              "      <td>9.690000</td>\n",
              "      <td>0.000000</td>\n",
              "      <td>0.538000</td>\n",
              "      <td>6.208500</td>\n",
              "      <td>77.500000</td>\n",
              "      <td>3.207450</td>\n",
              "      <td>5.000000</td>\n",
              "      <td>330.000000</td>\n",
              "      <td>19.050000</td>\n",
              "      <td>11.360000</td>\n",
              "      <td>21.200000</td>\n",
              "    </tr>\n",
              "    <tr>\n",
              "      <th>75%</th>\n",
              "      <td>3.677082</td>\n",
              "      <td>12.500000</td>\n",
              "      <td>18.100000</td>\n",
              "      <td>0.000000</td>\n",
              "      <td>0.624000</td>\n",
              "      <td>6.623500</td>\n",
              "      <td>94.075000</td>\n",
              "      <td>5.188425</td>\n",
              "      <td>24.000000</td>\n",
              "      <td>666.000000</td>\n",
              "      <td>20.200000</td>\n",
              "      <td>16.955000</td>\n",
              "      <td>25.000000</td>\n",
              "    </tr>\n",
              "    <tr>\n",
              "      <th>max</th>\n",
              "      <td>88.976200</td>\n",
              "      <td>100.000000</td>\n",
              "      <td>27.740000</td>\n",
              "      <td>1.000000</td>\n",
              "      <td>0.871000</td>\n",
              "      <td>8.780000</td>\n",
              "      <td>100.000000</td>\n",
              "      <td>12.126500</td>\n",
              "      <td>24.000000</td>\n",
              "      <td>711.000000</td>\n",
              "      <td>22.000000</td>\n",
              "      <td>37.970000</td>\n",
              "      <td>50.000000</td>\n",
              "    </tr>\n",
              "  </tbody>\n",
              "</table>\n",
              "</div>"
            ],
            "text/plain": [
              "       crime_rate       zoned  industrial  charles_binary         nox  \\\n",
              "count  506.000000  506.000000  506.000000      506.000000  506.000000   \n",
              "mean     3.613524   11.363636   11.136779        0.069170    0.554695   \n",
              "std      8.601545   23.322453    6.860353        0.253994    0.115878   \n",
              "min      0.006320    0.000000    0.460000        0.000000    0.385000   \n",
              "25%      0.082045    0.000000    5.190000        0.000000    0.449000   \n",
              "50%      0.256510    0.000000    9.690000        0.000000    0.538000   \n",
              "75%      3.677082   12.500000   18.100000        0.000000    0.624000   \n",
              "max     88.976200  100.000000   27.740000        1.000000    0.871000   \n",
              "\n",
              "        avg_rooms  pct_pre1940  distance_center  highway_access     avg_tax  \\\n",
              "count  506.000000   506.000000       506.000000      506.000000  506.000000   \n",
              "mean     6.284634    68.574901         3.795043        9.549407  408.237154   \n",
              "std      0.702617    28.148861         2.105710        8.707259  168.537116   \n",
              "min      3.561000     2.900000         1.129600        1.000000  187.000000   \n",
              "25%      5.885500    45.025000         2.100175        4.000000  279.000000   \n",
              "50%      6.208500    77.500000         3.207450        5.000000  330.000000   \n",
              "75%      6.623500    94.075000         5.188425       24.000000  666.000000   \n",
              "max      8.780000   100.000000        12.126500       24.000000  711.000000   \n",
              "\n",
              "          ptratio  pct_lowIncome  response_mv  \n",
              "count  506.000000     506.000000   506.000000  \n",
              "mean    18.455534      12.653063    22.528854  \n",
              "std      2.164946       7.141062     9.182176  \n",
              "min     12.600000       1.730000     5.000000  \n",
              "25%     17.400000       6.950000    17.025000  \n",
              "50%     19.050000      11.360000    21.200000  \n",
              "75%     20.200000      16.955000    25.000000  \n",
              "max     22.000000      37.970000    50.000000  "
            ]
          },
          "metadata": {
            "tags": []
          },
          "execution_count": 12
        }
      ]
    },
    {
      "metadata": {
        "colab_type": "text",
        "id": "zshZ1bluXSuv"
      },
      "cell_type": "markdown",
      "source": [
        "### Distplot distributions (High Range & Low Range Variables)"
      ]
    },
    {
      "metadata": {
        "colab_type": "code",
        "id": "b2TcW7NFXSuw",
        "colab": {}
      },
      "cell_type": "code",
      "source": [
        "#plot distribution of column values together in one figure\n",
        "f, axes = plt.subplots(2, 2, figsize=(15, 15), sharex=True)\n",
        "f.suptitle('distplot Distribution of Column Values (% variables)', size = 16, y=.9)\n",
        "sns.distplot(df_boston[\"crime_rate\"] , color=\"black\", ax=axes[0, 0])\n",
        "sns.distplot(df_boston[\"zoned\"] , color=\"black\", ax=axes[0, 1])\n",
        "sns.distplot(df_boston[\"industrial\"] , color=\"black\", ax=axes[1, 0])\n",
        "sns.distplot(df_boston[\"pct_pre1940\"] , color=\"black\", ax=axes[1, 1])\n",
        "f.savefig('distplot Distribution of Column Values (% variables)' + '.pdf', \n",
        "    bbox_inches = 'tight', dpi=None, facecolor='w', edgecolor='b', \n",
        "    orientation='portrait', papertype=None, format=None, \n",
        "    transparent=True, pad_inches=0.25, frameon=None)"
      ],
      "execution_count": 0,
      "outputs": []
    },
    {
      "metadata": {
        "colab_type": "code",
        "id": "wn8AYcL_XSux",
        "colab": {}
      },
      "cell_type": "code",
      "source": [
        "#plot distribution of column values together in one figure\n",
        "f, axes = plt.subplots(2, 2, figsize=(15, 15), sharex=True)\n",
        "f.suptitle('distplot Distribution of Column Values (low range variables)', size = 16, y=.9)\n",
        "sns.distplot(df_boston[\"avg_rooms\"] , color=\"black\", ax=axes[0, 0])\n",
        "sns.distplot(df_boston[\"distance_center\"] , color=\"black\", ax=axes[0, 1])\n",
        "sns.distplot(df_boston[\"highway_access\"] , color=\"black\", ax=axes[1, 0])\n",
        "sns.distplot(df_boston[\"ptratio\"] , color=\"black\", ax=axes[1, 1])\n",
        "f.savefig('distplot Distribution of Column Values (low range variables)' + '.pdf', \n",
        "    bbox_inches = 'tight', dpi=None, facecolor='w', edgecolor='b', \n",
        "    orientation='portrait', papertype=None, format=None, \n",
        "    transparent=True, pad_inches=0.25, frameon=None)"
      ],
      "execution_count": 0,
      "outputs": []
    },
    {
      "metadata": {
        "colab_type": "code",
        "id": "WtRYIWqvXSuz",
        "colab": {}
      },
      "cell_type": "code",
      "source": [
        "sns.distplot(df_boston[\"avg_tax\"] , color=\"black\")"
      ],
      "execution_count": 0,
      "outputs": []
    },
    {
      "metadata": {
        "colab_type": "text",
        "id": "LUy1aMj2XSu0"
      },
      "cell_type": "markdown",
      "source": [
        "### Explore regression & correlation - continuous variables"
      ]
    },
    {
      "metadata": {
        "colab_type": "code",
        "id": "r3yFKf8lXSu1",
        "colab": {}
      },
      "cell_type": "code",
      "source": [
        "# plot linear relationships with response variable 'response_mv' together in one figure\n",
        "f, axes = plt.subplots(2, 2, figsize=(15, 15), sharex=True)\n",
        "f.suptitle('Linear relationships to response variable response_mv (% variables)', size = 16, y=.9)\n",
        "sns.regplot(x=\"crime_rate\", y=\"response_mv\", data=df_boston, x_jitter=.1, color = \"black\", ax=axes[0, 0])\n",
        "sns.regplot(x=\"zoned\", y=\"response_mv\", data=df_boston, x_jitter=.1, color = \"black\", ax=axes[0, 1])\n",
        "sns.regplot(x=\"industrial\", y=\"response_mv\", data=df_boston, x_jitter=.1, color = \"black\", ax=axes[1, 0])\n",
        "sns.regplot(x=\"pct_pre1940\", y=\"response_mv\", data=df_boston, x_jitter=.1, color = \"black\", ax=axes[1, 1])\n",
        "f.savefig('Linear relationships to response variable response_mv (% variables)' + '.pdf', \n",
        "    bbox_inches = 'tight', dpi=None, facecolor='w', edgecolor='b', \n",
        "    orientation='portrait', papertype=None, format=None, \n",
        "    transparent=True, pad_inches=0.25, frameon=None)"
      ],
      "execution_count": 0,
      "outputs": []
    },
    {
      "metadata": {
        "colab_type": "code",
        "id": "v-ATsk6YXSu2",
        "colab": {}
      },
      "cell_type": "code",
      "source": [
        "# plot linear relationships with response variable 'response_mv' together in one figure\n",
        "f, axes = plt.subplots(2, 2, figsize=(15, 15), sharex=True)\n",
        "f.suptitle('Linear relationships to response variable response_mv (low range variables)', size = 16, y=.9)\n",
        "sns.regplot(x=\"avg_rooms\", y=\"response_mv\", data=df_boston, x_jitter=.1, color = \"black\", ax=axes[0, 0])\n",
        "sns.regplot(x=\"distance_center\", y=\"response_mv\", data=df_boston, x_jitter=.1, color = \"black\", ax=axes[0, 1])\n",
        "sns.regplot(x=\"highway_access\", y=\"response_mv\", data=df_boston, x_jitter=.1, color = \"black\", ax=axes[1, 0])\n",
        "sns.regplot(x=\"ptratio\", y=\"response_mv\", data=df_boston, x_jitter=.1, color = \"black\", ax=axes[1, 1])\n",
        "f.savefig('Linear relationships to response response_mv (low range variables)' + '.pdf', \n",
        "    bbox_inches = 'tight', dpi=None, facecolor='w', edgecolor='b', \n",
        "    orientation='portrait', papertype=None, format=None, \n",
        "    transparent=True, pad_inches=0.25, frameon=None)"
      ],
      "execution_count": 0,
      "outputs": []
    },
    {
      "metadata": {
        "colab_type": "code",
        "id": "SC1cQ4IzXSu3",
        "colab": {}
      },
      "cell_type": "code",
      "source": [
        "sns.regplot(x=\"avg_tax\", y=\"response_mv\", data=df_boston, x_jitter=.1, color = \"black\")"
      ],
      "execution_count": 0,
      "outputs": []
    },
    {
      "metadata": {
        "colab_type": "text",
        "id": "O2rd4Rz-XSu5"
      },
      "cell_type": "markdown",
      "source": [
        "### plot correlation - continuous variables"
      ]
    },
    {
      "metadata": {
        "colab_type": "code",
        "id": "-vYcvLw6XSu5",
        "colab": {}
      },
      "cell_type": "code",
      "source": [
        "# correlation heat map setup for seaborn\n",
        "def corr_chart(df_corr):\n",
        "    corr=df_corr.corr()\n",
        "    #screen top half to get a triangle\n",
        "    top = np.zeros_like(corr, dtype=np.bool)\n",
        "    top[np.triu_indices_from(top)] = True\n",
        "    fig=plt.figure()\n",
        "    fig, ax = plt.subplots(figsize=(12,12))\n",
        "    sns.heatmap(corr, mask=top, cmap='coolwarm', \n",
        "        center = 0, square=True, \n",
        "        linewidths=.5, cbar_kws={'shrink':.5}, \n",
        "        annot = True, annot_kws={'size': 9}, fmt = '.3f')           \n",
        "    plt.xticks(rotation=45) # rotate variable labels on columns (x axis)\n",
        "    plt.yticks(rotation=0) # use horizontal variable labels on rows (y axis)\n",
        "    plt.title('Correlation Heat Map')   \n",
        "    plt.savefig('plot-corr-map.pdf', \n",
        "        bbox_inches = 'tight', dpi=None, facecolor='w', edgecolor='b', \n",
        "        orientation='portrait', papertype=None, format=None, \n",
        "        transparent=True, pad_inches=0.25, frameon=None)      \n",
        "\n",
        "np.set_printoptions(precision=3)"
      ],
      "execution_count": 0,
      "outputs": []
    },
    {
      "metadata": {
        "colab_type": "code",
        "id": "_6Wv1JX_XSu6",
        "colab": {}
      },
      "cell_type": "code",
      "source": [
        "# define subset DataFrame for analysis of software preferences \n",
        "Selected = ['crime_rate', 'zoned', 'industrial', 'charles_binary',\n",
        "       'nox', 'avg_rooms', 'pct_pre1940', 'distance_center', 'highway_access',\n",
        "       'avg_tax', 'ptratio', 'pct_lowIncome', 'response_mv']\n",
        "\n",
        "correlation_df = df_boston[Selected]\n",
        "\n",
        "# examine intercorrelations among software preference variables\n",
        "# with correlation matrix/heat map\n",
        "corr_chart(df_corr = correlation_df)  "
      ],
      "execution_count": 0,
      "outputs": []
    },
    {
      "metadata": {
        "colab_type": "text",
        "id": "BawWEeCBXSvH"
      },
      "cell_type": "markdown",
      "source": [
        "## Model 1- Model exploration without data transformation\n",
        "\n",
        "### Model 1a - Regularized Linear Model (Ridge)\n",
        "\n",
        "> #### Training Score: .74 - Test Score: .71 (12 features used)\n",
        "Observation - poor fit & overly complex\n",
        "### Model 1b - Decision Tree Regression Model\n",
        "\n",
        "> #### Training Score: .93 - Test Score: .84 (Max Depth = 5)\n",
        "Observation - improved fit and simple - feature emphasis on 'avg_rooms'\n",
        "### Model 1c - Random Forest Regression Model\n",
        "\n",
        ">#### Training Score: .92 - Test Score: .87 (Max Depth = 4)\n",
        "Observation - improved fit and less gap between train & test score\n",
        "Feature emphasis changes from 'avg_rooms' to 'pct_lowIncome'\n",
        "### Model 1d - Gradient Boosting for best fit\n",
        "\n",
        ">#### Training Score: .95 - Test Score: .88 (Max Depth = 2)\n",
        "Observation - 'best' fit for non-transformed data\n",
        "improved distribution between feature emphasis"
      ]
    },
    {
      "metadata": {
        "colab_type": "text",
        "id": "rfQYa9nOqkE5"
      },
      "cell_type": "markdown",
      "source": [
        "### Model 1 - Data Prep & Training/Test split - no data transformation"
      ]
    },
    {
      "metadata": {
        "id": "IFUycuTSNTkR",
        "colab_type": "code",
        "colab": {}
      },
      "cell_type": "code",
      "source": [
        "df_boston2 = df_boston.copy()\n",
        "df_boston2 = df_boston2.drop(columns=['neighborhood'])\n",
        "df_boston2.describe();"
      ],
      "execution_count": 0,
      "outputs": []
    },
    {
      "metadata": {
        "colab_type": "code",
        "id": "CGtmBhAQqekf",
        "colab": {}
      },
      "cell_type": "code",
      "source": [
        "R1_model_X = df_boston2.copy()\n",
        "R1_model_y = df_boston2.copy()\n",
        "\n",
        "# split dataframe by data and response variables and make array for train_test_split\n",
        "#remove response variable from data and save as df_data\n",
        "R1_model_X = R1_model_X.drop(columns=['response_mv'])\n",
        "#remove all but response variable and save as df_response\n",
        "R1_model_y = pd.DataFrame(R1_model_y['response_mv'])\n",
        "\n",
        "#split data by training & test sets\n",
        "X_train_R1, X_test_R1, y_train_R1, y_test_R1 = train_test_split(\\\n",
        "    R1_model_X, R1_model_y,test_size=.3, random_state=10)"
      ],
      "execution_count": 0,
      "outputs": []
    },
    {
      "metadata": {
        "colab_type": "code",
        "id": "M6vsAszCwv6j",
        "colab": {}
      },
      "cell_type": "code",
      "source": [
        "X_train_R1.head(); # check split x"
      ],
      "execution_count": 0,
      "outputs": []
    },
    {
      "metadata": {
        "colab_type": "code",
        "id": "bnj03qfmw73r",
        "colab": {}
      },
      "cell_type": "code",
      "source": [
        "y_train_R1.head(); #check split y"
      ],
      "execution_count": 0,
      "outputs": []
    },
    {
      "metadata": {
        "colab_type": "text",
        "id": "kpk0-bsPyYL6"
      },
      "cell_type": "markdown",
      "source": [
        "### Model 1a Regularized Linear (Ridge) Model\n",
        "#### Training Score: .74 - Test Score: .71 (12 features used)\n",
        "Observation - poor fit & overly complex"
      ]
    },
    {
      "metadata": {
        "colab_type": "code",
        "id": "N0IG4g42vjFu",
        "outputId": "ae152734-c8f1-4fe2-c175-972df5d0fe40",
        "colab": {
          "base_uri": "https://localhost:8080/",
          "height": 429
        }
      },
      "cell_type": "code",
      "source": [
        "from sklearn.linear_model import Ridge\n",
        "\n",
        "ridge1 = Ridge(alpha=.001, solver=\"cholesky\").fit(X_train_R1,y_train_R1)\n",
        "\n",
        "print(\"Training set score: {:.2f}\".format(ridge1.score(X_train_R1,y_train_R1)))\n",
        "print(\"Test set score: {:.2f}\".format(ridge1.score(X_test_R1,y_test_R1)))\n",
        "print(\"Number of features used: {}\".format(np.sum(ridge1.coef_ !=0)))\n",
        "\n",
        "y_R1_chk = y_test_R1.copy()\n",
        "y_R1_chk['predicted']=ridge1.predict(X_test_R1)\n",
        "# Plot the residuals after fitting a linear model\n",
        "sns.residplot(y_R1_chk['predicted'], y_R1_chk['response_mv'], lowess=True, color=\"g\")"
      ],
      "execution_count": 17,
      "outputs": [
        {
          "output_type": "stream",
          "text": [
            "Training set score: 0.74\n",
            "Test set score: 0.71\n",
            "Number of features used: 12\n"
          ],
          "name": "stdout"
        },
        {
          "output_type": "execute_result",
          "data": {
            "text/plain": [
              "<matplotlib.axes._subplots.AxesSubplot at 0x7fbb82c2bfd0>"
            ]
          },
          "metadata": {
            "tags": []
          },
          "execution_count": 17
        },
        {
          "output_type": "display_data",
          "data": {
            "image/png": "[encoded data removed]",
            "text/plain": [
              "<matplotlib.figure.Figure at 0x7fbb82c2b828>"
            ]
          },
          "metadata": {
            "tags": []
          }
        }
      ]
    },
    {
      "metadata": {
        "id": "BeYj7F1BNTkW",
        "colab_type": "text"
      },
      "cell_type": "markdown",
      "source": [
        "### Model 1b Decision Tree\n",
        "#### Training Score: .93 - Test Score: .84 (Max Depth = 5)\n",
        "Observation - improved fit and simple - feature emphasis on 'avg_rooms'"
      ]
    },
    {
      "metadata": {
        "id": "dcSiqdATNTkW",
        "colab_type": "code",
        "colab": {}
      },
      "cell_type": "code",
      "source": [
        "tree_model_maker = DecisionTreeRegressor(random_state = 9999, max_depth = 5)"
      ],
      "execution_count": 0,
      "outputs": []
    },
    {
      "metadata": {
        "id": "ASlarFjlNTkW",
        "colab_type": "code",
        "colab": {}
      },
      "cell_type": "code",
      "source": [
        "# fit regression tree using model 1 training/test split\n",
        "tree_model_fit = tree_model_maker.fit(X_train_R1, y_train_R1)"
      ],
      "execution_count": 0,
      "outputs": []
    },
    {
      "metadata": {
        "id": "rDld5w6HNTkX",
        "colab_type": "code",
        "colab": {
          "base_uri": "https://localhost:8080/",
          "height": 85
        },
        "outputId": "62e12443-f856-4fad-cbc3-08315918677d"
      },
      "cell_type": "code",
      "source": [
        "# compute the proportion of response variance for training data\n",
        "X_train_R1_chk = X_train_R1.copy()\n",
        "\n",
        "X_train_R1_chk['m1_Tree_predicted'] =\\\n",
        "    tree_model_fit.predict(X_train_R1_chk)\n",
        "full_tree_train_result = \\\n",
        "    round(np.power(y_train_R1['response_mv']\\\n",
        "        .corr(X_train_R1_chk['m1_Tree_predicted']),2),3)\n",
        "print('\\nFull Tree Proportion of Training Set Variance Accounted for: ',\\\n",
        "    full_tree_train_result)\n",
        "\n",
        "# compute the proportion of response variance for test data\n",
        "X_test_R1_chk = X_test_R1.copy()\n",
        "\n",
        "X_test_R1_chk['m1_Tree_predicted'] =\\\n",
        "    tree_model_fit.predict(X_test_R1_chk)\n",
        "full_tree_test_result = \\\n",
        "    round(np.power(y_test_R1['response_mv']\\\n",
        "        .corr(X_test_R1_chk['m1_Tree_predicted']),2),3)\n",
        "print('\\nFull Tree Proportion of Test Set Variance Accounted for: ',\\\n",
        "    full_tree_test_result)"
      ],
      "execution_count": 21,
      "outputs": [
        {
          "output_type": "stream",
          "text": [
            "\n",
            "Full Tree Proportion of Training Set Variance Accounted for:  0.934\n",
            "\n",
            "Full Tree Proportion of Test Set Variance Accounted for:  0.838\n"
          ],
          "name": "stdout"
        }
      ]
    },
    {
      "metadata": {
        "id": "qhBfWpPBNTkY",
        "colab_type": "code",
        "colab": {
          "base_uri": "https://localhost:8080/",
          "height": 412
        },
        "outputId": "1a9f281a-5fcb-4f94-f279-ca56a1a05024"
      },
      "cell_type": "code",
      "source": [
        "print(\"Training set score: {:.2f}\".format(tree_model_fit.score(X_train_R1,y_train_R1)))\n",
        "print(\"Test set score: {:.2f}\".format(tree_model_fit.score(X_test_R1,y_test_R1)))\n",
        "#print(\"Number of features used: {}\".format(np.sum(tree_model_fit.coef_ !=0)))\n",
        "\n",
        "y_Tree1_chk = y_test_R1.copy()\n",
        "y_Tree1_chk['predicted']=tree_model_fit.predict(X_test_R1)\n",
        "# Plot the residuals after fitting a linear model\n",
        "sns.residplot(y_Tree1_chk['predicted'], y_Tree1_chk['response_mv'], lowess=True, color=\"g\")"
      ],
      "execution_count": 22,
      "outputs": [
        {
          "output_type": "stream",
          "text": [
            "Training set score: 0.93\n",
            "Test set score: 0.84\n"
          ],
          "name": "stdout"
        },
        {
          "output_type": "execute_result",
          "data": {
            "text/plain": [
              "<matplotlib.axes._subplots.AxesSubplot at 0x7fbb82c2b7f0>"
            ]
          },
          "metadata": {
            "tags": []
          },
          "execution_count": 22
        },
        {
          "output_type": "display_data",
          "data": {
            "image/png": "[encoded data removed]",
            "text/plain": [
              "<matplotlib.figure.Figure at 0x7fbb803b3518>"
            ]
          },
          "metadata": {
            "tags": []
          }
        }
      ]
    },
    {
      "metadata": {
        "id": "yMH-nYjvNTka",
        "colab_type": "code",
        "colab": {
          "base_uri": "https://localhost:8080/",
          "height": 361
        },
        "outputId": "f59fe119-4479-4e5b-dad0-095a950026f9"
      },
      "cell_type": "code",
      "source": [
        "def plot_feature_importances_boston(model):\n",
        "    n_features = X_train_R1.shape[1]\n",
        "    plt.barh(np.arange(n_features), model.feature_importances_, align='center')\n",
        "    plt.yticks(np.arange(n_features), X_train_R1.columns)\n",
        "    plt.xlabel(\"Feature importance\")\n",
        "    plt.ylabel(\"Feature\")\n",
        "    plt.ylim(-1, n_features)\n",
        "\n",
        "plot_feature_importances_boston(tree_model_fit)"
      ],
      "execution_count": 23,
      "outputs": [
        {
          "output_type": "display_data",
          "data": {
            "image/png": "[encoded data removed]",
            "text/plain": [
              "<matplotlib.figure.Figure at 0x7fbb80353630>"
            ]
          },
          "metadata": {
            "tags": []
          }
        }
      ]
    },
    {
      "metadata": {
        "id": "cJLo6d15NTkb",
        "colab_type": "text"
      },
      "cell_type": "markdown",
      "source": [
        "### Model 1c - Random Forest Regressor\n",
        "#### Training Score: .92 - Test Score: .87 (Max Depth = 4)\n",
        "Observation - improved fit and less gap between train & test score\n",
        "Feature emphasis changes from 'avg_rooms' to 'pct_lowIncome'"
      ]
    },
    {
      "metadata": {
        "id": "f61MKzkyNTkb",
        "colab_type": "code",
        "colab": {
          "base_uri": "https://localhost:8080/",
          "height": 466
        },
        "outputId": "dde7179f-2da7-4c90-a71b-4c27a39f55f5"
      },
      "cell_type": "code",
      "source": [
        "from sklearn.ensemble import RandomForestRegressor\n",
        "from sklearn.datasets import make_regression\n",
        "\n",
        "RForest1 = RandomForestRegressor(max_depth=4, random_state=0, n_estimators=100)\n",
        "\n",
        "RForest1.fit(X_train_R1,y_train_R1)\n",
        "\n",
        "print(\"Training set score: {:.2f}\".format(RForest1.score(X_train_R1,y_train_R1)))\n",
        "print(\"Test set score: {:.2f}\".format(RForest1.score(X_test_R1,y_test_R1)))\n",
        "#print(\"Number of features used: {}\".format(np.sum(tree_model_fit.coef_ !=0)))\n",
        "\n",
        "y_RForest1_chk = y_test_R1.copy()\n",
        "y_RForest1_chk['predicted']=RForest1.predict(X_test_R1)\n",
        "# Plot the residuals after fitting a linear model\n",
        "sns.residplot(y_RForest1_chk['predicted'], y_RForest1_chk['response_mv'], lowess=True, color=\"g\")"
      ],
      "execution_count": 24,
      "outputs": [
        {
          "output_type": "stream",
          "text": [
            "/usr/local/lib/python3.6/dist-packages/ipykernel_launcher.py:6: DataConversionWarning: A column-vector y was passed when a 1d array was expected. Please change the shape of y to (n_samples,), for example using ravel().\n",
            "  \n"
          ],
          "name": "stderr"
        },
        {
          "output_type": "stream",
          "text": [
            "Training set score: 0.92\n",
            "Test set score: 0.87\n"
          ],
          "name": "stdout"
        },
        {
          "output_type": "execute_result",
          "data": {
            "text/plain": [
              "<matplotlib.axes._subplots.AxesSubplot at 0x7fbb7f6fa470>"
            ]
          },
          "metadata": {
            "tags": []
          },
          "execution_count": 24
        },
        {
          "output_type": "display_data",
          "data": {
            "image/png": "[encoded data removed]",
            "text/plain": [
              "<matplotlib.figure.Figure at 0x7fbb7f97bc18>"
            ]
          },
          "metadata": {
            "tags": []
          }
        }
      ]
    },
    {
      "metadata": {
        "id": "V8epcSjvNTkc",
        "colab_type": "code",
        "colab": {
          "base_uri": "https://localhost:8080/",
          "height": 361
        },
        "outputId": "a99c2c64-d592-4dcb-a10d-a10fc6d8f311"
      },
      "cell_type": "code",
      "source": [
        "plot_feature_importances_boston(RForest1)"
      ],
      "execution_count": 25,
      "outputs": [
        {
          "output_type": "display_data",
          "data": {
            "image/png": "[encoded data removed]",
            "text/plain": [
              "<matplotlib.figure.Figure at 0x7fbb80349f98>"
            ]
          },
          "metadata": {
            "tags": []
          }
        }
      ]
    },
    {
      "metadata": {
        "id": "kKLXdCQaNTkd",
        "colab_type": "text"
      },
      "cell_type": "markdown",
      "source": [
        "### Model 1d Gradient Boosting\n",
        "#### Training Score: .95 - Test Score: .88 (Max Depth = 2)\n",
        "Observation - 'best' fit for non-transformed data\n",
        "improved distribution between feature emphasis"
      ]
    },
    {
      "metadata": {
        "id": "hZANbhm6NTkd",
        "colab_type": "code",
        "colab": {
          "base_uri": "https://localhost:8080/",
          "height": 136
        },
        "outputId": "23f21ec2-5d67-4b71-a420-0453ed8ea6f5"
      },
      "cell_type": "code",
      "source": [
        "from sklearn.ensemble import GradientBoostingRegressor\n",
        "gbrt = GradientBoostingRegressor(max_depth=2, n_estimators=120, random_state=42)\n",
        "gbrt.fit(X_train_R1,y_train_R1)\n",
        "\n",
        "errors = [mean_squared_error(y_test_R1, y_pred)\n",
        "          for y_pred in gbrt.staged_predict(X_test_R1)]\n",
        "bst_n_estimators = np.argmin(errors)\n",
        "\n",
        "gbrt_best = GradientBoostingRegressor(max_depth=2,n_estimators=bst_n_estimators, random_state=42)\n",
        "gbrt_best.fit(X_train_R1,y_train_R1)"
      ],
      "execution_count": 26,
      "outputs": [
        {
          "output_type": "execute_result",
          "data": {
            "text/plain": [
              "GradientBoostingRegressor(alpha=0.9, criterion='friedman_mse', init=None,\n",
              "             learning_rate=0.1, loss='ls', max_depth=2, max_features=None,\n",
              "             max_leaf_nodes=None, min_impurity_decrease=0.0,\n",
              "             min_impurity_split=None, min_samples_leaf=1,\n",
              "             min_samples_split=2, min_weight_fraction_leaf=0.0,\n",
              "             n_estimators=87, presort='auto', random_state=42,\n",
              "             subsample=1.0, verbose=0, warm_start=False)"
            ]
          },
          "metadata": {
            "tags": []
          },
          "execution_count": 26
        }
      ]
    },
    {
      "metadata": {
        "id": "DlZHP_ckNTke",
        "colab_type": "code",
        "colab": {
          "base_uri": "https://localhost:8080/",
          "height": 412
        },
        "outputId": "fde4c861-4757-4393-91bc-dfc68a82416a"
      },
      "cell_type": "code",
      "source": [
        "print(\"Training set score: {:.2f}\".format(gbrt_best.score(X_train_R1,y_train_R1)))\n",
        "print(\"Test set score: {:.2f}\".format(gbrt_best.score(X_test_R1,y_test_R1)))\n",
        "#print(\"Number of features used: {}\".format(np.sum(tree_model_fit.coef_ !=0)))\n",
        "\n",
        "y_gbrt_best_chk = y_test_R1.copy()\n",
        "y_gbrt_best_chk['predicted']= gbrt_best.predict(X_test_R1)\n",
        "# Plot the residuals after fitting a linear model\n",
        "sns.residplot(y_gbrt_best_chk['predicted'], y_gbrt_best_chk['response_mv'], lowess=True, color=\"g\")"
      ],
      "execution_count": 27,
      "outputs": [
        {
          "output_type": "stream",
          "text": [
            "Training set score: 0.95\n",
            "Test set score: 0.88\n"
          ],
          "name": "stdout"
        },
        {
          "output_type": "execute_result",
          "data": {
            "text/plain": [
              "<matplotlib.axes._subplots.AxesSubplot at 0x7fbb7f602c88>"
            ]
          },
          "metadata": {
            "tags": []
          },
          "execution_count": 27
        },
        {
          "output_type": "display_data",
          "data": {
            "image/png": "[encoded data removed]",
            "text/plain": [
              "<matplotlib.figure.Figure at 0x7fbb7f6025f8>"
            ]
          },
          "metadata": {
            "tags": []
          }
        }
      ]
    },
    {
      "metadata": {
        "id": "XpqpZT_eXBOT",
        "colab_type": "code",
        "colab": {
          "base_uri": "https://localhost:8080/",
          "height": 361
        },
        "outputId": "c62c348d-cfbb-4784-b1ab-07d94d99836f"
      },
      "cell_type": "code",
      "source": [
        "plot_feature_importances_boston(gbrt_best)"
      ],
      "execution_count": 28,
      "outputs": [
        {
          "output_type": "display_data",
          "data": {
            "image/png": "[encoded data removed]",
            "text/plain": [
              "<matplotlib.figure.Figure at 0x7fbb802a6550>"
            ]
          },
          "metadata": {
            "tags": []
          }
        }
      ]
    },
    {
      "metadata": {
        "id": "XhFCjaD2Udyu",
        "colab_type": "text"
      },
      "cell_type": "markdown",
      "source": [
        "## Model 2 - Model exploration with data transformation (log)\n",
        "\n",
        "### Model 2a - Regularized Linear Model (Ridge)\n",
        "\n",
        "> #### Training Score: .78 - Test Score: .81 (12 features used)\n",
        "Observation - poor fit & overly complex\n",
        "\n",
        "### Model 2b - Decision Tree Regression Model\n",
        "\n",
        "\n",
        "> #### Training Score: .87 - Test Score: .66 (Max Depth 4)\n",
        "Observation - as max depth goes up, model is either over-simplified or over fit.. \n",
        "\n",
        "\n",
        "### Model 2c - Random Forest Regression Model\n",
        "\n",
        "\n",
        "> #### Training Score: .91 - Test Score: .85 (Max Depth 4)\n",
        "Observation - improvement on decision tree model - high feature emphasis on 'pct_lowIncome'\n",
        "\n",
        "\n",
        "### Model 2d - Gradient Boosting for best fit\n",
        "\n",
        "\n",
        ">#### Training Score: .94 - Test Score: .86 (Max Depth 2)\n",
        "Observation - 'best' fit for transformed data set and good balance of emphasis across features\n"
      ]
    },
    {
      "metadata": {
        "colab_type": "text",
        "id": "SkMYAAss40PP"
      },
      "cell_type": "markdown",
      "source": [
        "### Model 2 - Data Prep & Training/Test split\n",
        "#### Log transformation to data & response"
      ]
    },
    {
      "metadata": {
        "colab_type": "code",
        "id": "9IxgZHVCXSvY",
        "outputId": "ef704619-fa8d-42f9-8d26-ff691c6c7189",
        "colab": {
          "base_uri": "https://localhost:8080/",
          "height": 297
        }
      },
      "cell_type": "code",
      "source": [
        "df_Boston_log = df_boston2.copy()\n",
        "column_titles = df_boston2.columns\n",
        "\n",
        "from sklearn.preprocessing import FunctionTransformer\n",
        "transformer = FunctionTransformer(np.log1p, validate=True)\n",
        "\n",
        "df_Boston_log = transformer.transform(df_Boston_log)\n",
        "df_Boston_log = pd.DataFrame(df_Boston_log, columns = column_titles)\n",
        "df_Boston_log.describe()"
      ],
      "execution_count": 29,
      "outputs": [
        {
          "output_type": "execute_result",
          "data": {
            "text/html": [
              "<div>\n",
              "<style scoped>\n",
              "    .dataframe tbody tr th:only-of-type {\n",
              "        vertical-align: middle;\n",
              "    }\n",
              "\n",
              "    .dataframe tbody tr th {\n",
              "        vertical-align: top;\n",
              "    }\n",
              "\n",
              "    .dataframe thead th {\n",
              "        text-align: right;\n",
              "    }\n",
              "</style>\n",
              "<table border=\"1\" class=\"dataframe\">\n",
              "  <thead>\n",
              "    <tr style=\"text-align: right;\">\n",
              "      <th></th>\n",
              "      <th>crime_rate</th>\n",
              "      <th>zoned</th>\n",
              "      <th>industrial</th>\n",
              "      <th>charles_binary</th>\n",
              "      <th>nox</th>\n",
              "      <th>avg_rooms</th>\n",
              "      <th>pct_pre1940</th>\n",
              "      <th>distance_center</th>\n",
              "      <th>highway_access</th>\n",
              "      <th>avg_tax</th>\n",
              "      <th>ptratio</th>\n",
              "      <th>pct_lowIncome</th>\n",
              "      <th>response_mv</th>\n",
              "    </tr>\n",
              "  </thead>\n",
              "  <tbody>\n",
              "    <tr>\n",
              "      <th>count</th>\n",
              "      <td>506.000000</td>\n",
              "      <td>506.000000</td>\n",
              "      <td>506.000000</td>\n",
              "      <td>506.000000</td>\n",
              "      <td>506.000000</td>\n",
              "      <td>506.000000</td>\n",
              "      <td>506.000000</td>\n",
              "      <td>506.000000</td>\n",
              "      <td>506.000000</td>\n",
              "      <td>506.000000</td>\n",
              "      <td>506.000000</td>\n",
              "      <td>506.000000</td>\n",
              "      <td>506.000000</td>\n",
              "    </tr>\n",
              "    <tr>\n",
              "      <th>mean</th>\n",
              "      <td>0.813418</td>\n",
              "      <td>0.953873</td>\n",
              "      <td>2.302089</td>\n",
              "      <td>0.047945</td>\n",
              "      <td>0.438587</td>\n",
              "      <td>1.981139</td>\n",
              "      <td>4.112104</td>\n",
              "      <td>1.479648</td>\n",
              "      <td>2.054483</td>\n",
              "      <td>5.934259</td>\n",
              "      <td>2.961462</td>\n",
              "      <td>2.475610</td>\n",
              "      <td>3.085473</td>\n",
              "    </tr>\n",
              "    <tr>\n",
              "      <th>std</th>\n",
              "      <td>1.022731</td>\n",
              "      <td>1.620831</td>\n",
              "      <td>0.663362</td>\n",
              "      <td>0.176055</td>\n",
              "      <td>0.072948</td>\n",
              "      <td>0.096500</td>\n",
              "      <td>0.589774</td>\n",
              "      <td>0.413390</td>\n",
              "      <td>0.751839</td>\n",
              "      <td>0.395337</td>\n",
              "      <td>0.117926</td>\n",
              "      <td>0.539033</td>\n",
              "      <td>0.386487</td>\n",
              "    </tr>\n",
              "    <tr>\n",
              "      <th>min</th>\n",
              "      <td>0.006300</td>\n",
              "      <td>0.000000</td>\n",
              "      <td>0.378436</td>\n",
              "      <td>0.000000</td>\n",
              "      <td>0.325700</td>\n",
              "      <td>1.517542</td>\n",
              "      <td>1.360977</td>\n",
              "      <td>0.755934</td>\n",
              "      <td>0.693147</td>\n",
              "      <td>5.236442</td>\n",
              "      <td>2.610070</td>\n",
              "      <td>1.004302</td>\n",
              "      <td>1.791759</td>\n",
              "    </tr>\n",
              "    <tr>\n",
              "      <th>25%</th>\n",
              "      <td>0.078853</td>\n",
              "      <td>0.000000</td>\n",
              "      <td>1.822935</td>\n",
              "      <td>0.000000</td>\n",
              "      <td>0.370874</td>\n",
              "      <td>1.929418</td>\n",
              "      <td>3.829184</td>\n",
              "      <td>1.131459</td>\n",
              "      <td>1.609438</td>\n",
              "      <td>5.634790</td>\n",
              "      <td>2.912351</td>\n",
              "      <td>2.073162</td>\n",
              "      <td>2.891757</td>\n",
              "    </tr>\n",
              "    <tr>\n",
              "      <th>50%</th>\n",
              "      <td>0.228336</td>\n",
              "      <td>0.000000</td>\n",
              "      <td>2.369309</td>\n",
              "      <td>0.000000</td>\n",
              "      <td>0.430483</td>\n",
              "      <td>1.975261</td>\n",
              "      <td>4.363095</td>\n",
              "      <td>1.436855</td>\n",
              "      <td>1.791759</td>\n",
              "      <td>5.802118</td>\n",
              "      <td>2.998226</td>\n",
              "      <td>2.514464</td>\n",
              "      <td>3.100092</td>\n",
              "    </tr>\n",
              "    <tr>\n",
              "      <th>75%</th>\n",
              "      <td>1.542674</td>\n",
              "      <td>2.602690</td>\n",
              "      <td>2.949688</td>\n",
              "      <td>0.000000</td>\n",
              "      <td>0.484892</td>\n",
              "      <td>2.031236</td>\n",
              "      <td>4.554666</td>\n",
              "      <td>1.822659</td>\n",
              "      <td>3.218876</td>\n",
              "      <td>6.502790</td>\n",
              "      <td>3.054001</td>\n",
              "      <td>2.887869</td>\n",
              "      <td>3.258097</td>\n",
              "    </tr>\n",
              "    <tr>\n",
              "      <th>max</th>\n",
              "      <td>4.499545</td>\n",
              "      <td>4.615121</td>\n",
              "      <td>3.358290</td>\n",
              "      <td>0.693147</td>\n",
              "      <td>0.626473</td>\n",
              "      <td>2.280339</td>\n",
              "      <td>4.615121</td>\n",
              "      <td>2.574633</td>\n",
              "      <td>3.218876</td>\n",
              "      <td>6.568078</td>\n",
              "      <td>3.135494</td>\n",
              "      <td>3.662792</td>\n",
              "      <td>3.931826</td>\n",
              "    </tr>\n",
              "  </tbody>\n",
              "</table>\n",
              "</div>"
            ],
            "text/plain": [
              "       crime_rate       zoned  industrial  charles_binary         nox  \\\n",
              "count  506.000000  506.000000  506.000000      506.000000  506.000000   \n",
              "mean     0.813418    0.953873    2.302089        0.047945    0.438587   \n",
              "std      1.022731    1.620831    0.663362        0.176055    0.072948   \n",
              "min      0.006300    0.000000    0.378436        0.000000    0.325700   \n",
              "25%      0.078853    0.000000    1.822935        0.000000    0.370874   \n",
              "50%      0.228336    0.000000    2.369309        0.000000    0.430483   \n",
              "75%      1.542674    2.602690    2.949688        0.000000    0.484892   \n",
              "max      4.499545    4.615121    3.358290        0.693147    0.626473   \n",
              "\n",
              "        avg_rooms  pct_pre1940  distance_center  highway_access     avg_tax  \\\n",
              "count  506.000000   506.000000       506.000000      506.000000  506.000000   \n",
              "mean     1.981139     4.112104         1.479648        2.054483    5.934259   \n",
              "std      0.096500     0.589774         0.413390        0.751839    0.395337   \n",
              "min      1.517542     1.360977         0.755934        0.693147    5.236442   \n",
              "25%      1.929418     3.829184         1.131459        1.609438    5.634790   \n",
              "50%      1.975261     4.363095         1.436855        1.791759    5.802118   \n",
              "75%      2.031236     4.554666         1.822659        3.218876    6.502790   \n",
              "max      2.280339     4.615121         2.574633        3.218876    6.568078   \n",
              "\n",
              "          ptratio  pct_lowIncome  response_mv  \n",
              "count  506.000000     506.000000   506.000000  \n",
              "mean     2.961462       2.475610     3.085473  \n",
              "std      0.117926       0.539033     0.386487  \n",
              "min      2.610070       1.004302     1.791759  \n",
              "25%      2.912351       2.073162     2.891757  \n",
              "50%      2.998226       2.514464     3.100092  \n",
              "75%      3.054001       2.887869     3.258097  \n",
              "max      3.135494       3.662792     3.931826  "
            ]
          },
          "metadata": {
            "tags": []
          },
          "execution_count": 29
        }
      ]
    },
    {
      "metadata": {
        "id": "Oiu5ypMKNTkg",
        "colab_type": "code",
        "colab": {}
      },
      "cell_type": "code",
      "source": [
        "from sklearn.metrics import mean_squared_error\n",
        "from sklearn.model_selection import train_test_split\n",
        "\n",
        "def plot_learning_curves(model, X, y):\n",
        "    X_train, X_val, y_train, y_val = train_test_split(X, y, test_size=0.2, random_state=10)\n",
        "    train_errors, val_errors = [], []\n",
        "    for m in range(1, len(X_train)):\n",
        "        model.fit(X_train[:m], y_train[:m])\n",
        "        y_train_predict = model.predict(X_train[:m])\n",
        "        y_val_predict = model.predict(X_val)\n",
        "        train_errors.append(mean_squared_error(y_train[:m], y_train_predict))\n",
        "        val_errors.append(mean_squared_error(y_val, y_val_predict))\n",
        "\n",
        "    plt.plot(np.sqrt(train_errors), \"r-+\", linewidth=2, label=\"train\")\n",
        "    plt.plot(np.sqrt(val_errors), \"b-\", linewidth=3, label=\"val\")\n",
        "    plt.legend(loc=\"upper right\", fontsize=14)   # not shown in the book\n",
        "    plt.xlabel(\"Training set size\", fontsize=14) # not shown\n",
        "    plt.ylabel(\"RMSE\", fontsize=14)    "
      ],
      "execution_count": 0,
      "outputs": []
    },
    {
      "metadata": {
        "colab_type": "code",
        "id": "jWMXdBlI4M2G",
        "outputId": "8db599d2-5b3c-4073-9cc5-efb988b1b207",
        "colab": {
          "base_uri": "https://localhost:8080/",
          "height": 369
        }
      },
      "cell_type": "code",
      "source": [
        "Log_model_X = df_Boston_log.copy()\n",
        "Log_model_y = df_Boston_log.copy()\n",
        "\n",
        "# split dataframe by data and response variables and make array for train_test_split\n",
        "#remove response variable from data and save as df_data\n",
        "Log_model_X = Log_model_X.drop(columns=['response_mv'])\n",
        "#remove all but response variable and save as df_response\n",
        "Log_model_y = pd.DataFrame(Log_model_y['response_mv'])\n",
        "\n",
        "#'plot_learning_curves' defined under 'test model':\n",
        "r_model = Ridge(alpha=.0001, solver=\"cholesky\")\n",
        "plot_learning_curves(r_model, Log_model_X, Log_model_y)\n",
        "plt.axis([0, 80, 0, .5])                         # not shown in the book\n",
        "plt.show()                                      # not shown"
      ],
      "execution_count": 31,
      "outputs": [
        {
          "output_type": "display_data",
          "data": {
            "image/png": "[encoded data removed]",
            "text/plain": [
              "<matplotlib.figure.Figure at 0x7fbb7f60d588>"
            ]
          },
          "metadata": {
            "tags": []
          }
        }
      ]
    },
    {
      "metadata": {
        "colab_type": "code",
        "id": "nhkwjxL4K4kf",
        "colab": {}
      },
      "cell_type": "code",
      "source": [
        "#split data by training & test sets\n",
        "X_train_Log, X_test_Log, y_train_Log, y_test_Log = train_test_split(\\\n",
        "    Log_model_X, Log_model_y,test_size=.3, random_state=10)"
      ],
      "execution_count": 0,
      "outputs": []
    },
    {
      "metadata": {
        "colab_type": "code",
        "id": "5TzDJ45F464S",
        "colab": {}
      },
      "cell_type": "code",
      "source": [
        "X_train_Log.head(); #test split X"
      ],
      "execution_count": 0,
      "outputs": []
    },
    {
      "metadata": {
        "colab_type": "code",
        "id": "oasszee-5EMs",
        "colab": {}
      },
      "cell_type": "code",
      "source": [
        "y_train_Log.head(); #test split y"
      ],
      "execution_count": 0,
      "outputs": []
    },
    {
      "metadata": {
        "id": "8a8kj4NCURjo",
        "colab_type": "text"
      },
      "cell_type": "markdown",
      "source": [
        ""
      ]
    },
    {
      "metadata": {
        "colab_type": "text",
        "id": "CA0y6hviBdNv"
      },
      "cell_type": "markdown",
      "source": [
        "### Model 2a - Scaled Ridge Regression (Log)\n",
        "#### Training Score: .78 - Test Score: .81 (12 features used)\n",
        "Observation - poor fit & overly complex"
      ]
    },
    {
      "metadata": {
        "colab_type": "code",
        "id": "Z8UqtPKyXSvg",
        "outputId": "25abc1f0-7c3a-4642-c31f-b34f49bfb4be",
        "colab": {
          "base_uri": "https://localhost:8080/",
          "height": 432
        }
      },
      "cell_type": "code",
      "source": [
        "from sklearn.linear_model import Ridge\n",
        "\n",
        "ridge2 = Ridge(alpha=1, solver=\"cholesky\").fit(X_train_Log,y_train_Log)\n",
        "\n",
        "print(\"Training set score: {:.2f}\".format(ridge2.score(X_train_Log,y_train_Log)))\n",
        "print(\"Test set score: {:.2f}\".format(ridge2.score(X_test_Log,y_test_Log)))\n",
        "print(\"Number of features used: {}\".format(np.sum(ridge2.coef_ !=0)))\n",
        "\n",
        "y_R2_chk = y_test_Log.copy()\n",
        "y_R2_chk['predicted']=ridge2.predict(X_test_Log)\n",
        "# Plot the residuals after fitting a linear model\n",
        "sns.residplot(y_R2_chk['predicted'], y_R2_chk['response_mv'], lowess=True, color=\"g\")"
      ],
      "execution_count": 35,
      "outputs": [
        {
          "output_type": "stream",
          "text": [
            "Training set score: 0.78\n",
            "Test set score: 0.81\n",
            "Number of features used: 12\n"
          ],
          "name": "stdout"
        },
        {
          "output_type": "execute_result",
          "data": {
            "text/plain": [
              "<matplotlib.axes._subplots.AxesSubplot at 0x7fbb7f4c0dd8>"
            ]
          },
          "metadata": {
            "tags": []
          },
          "execution_count": 35
        },
        {
          "output_type": "display_data",
          "data": {
            "image/png": "[encoded data removed]",
            "text/plain": [
              "<matplotlib.figure.Figure at 0x7fbb82c28dd8>"
            ]
          },
          "metadata": {
            "tags": []
          }
        }
      ]
    },
    {
      "metadata": {
        "colab_type": "text",
        "id": "NRHNjl6tKNQo"
      },
      "cell_type": "markdown",
      "source": [
        "### Model 2b - Decision Tree Regression (Log)\n",
        "#### Training Score: .87 - Test Score: .66 (Max Depth 4)\n",
        "Observation - as max depth goes up, model is either over-simplified or over fit.. "
      ]
    },
    {
      "metadata": {
        "id": "IqymPL3PNTkm",
        "colab_type": "code",
        "colab": {}
      },
      "cell_type": "code",
      "source": [
        "tree_model_maker2 = DecisionTreeRegressor(random_state = 9999, max_depth = 4)"
      ],
      "execution_count": 0,
      "outputs": []
    },
    {
      "metadata": {
        "colab_type": "code",
        "id": "dUCbaUqef857",
        "colab": {}
      },
      "cell_type": "code",
      "source": [
        "# fit regression tree using model 1 training/test split\n",
        "tree_model_fit2 = tree_model_maker2.fit(X_train_Log,y_train_Log)"
      ],
      "execution_count": 0,
      "outputs": []
    },
    {
      "metadata": {
        "id": "1690xxc7NTko",
        "colab_type": "code",
        "colab": {
          "base_uri": "https://localhost:8080/",
          "height": 412
        },
        "outputId": "24a8a4f6-1515-4f65-cc0f-70fbefbc13d7"
      },
      "cell_type": "code",
      "source": [
        "print(\"Training set score: {:.2f}\".format(tree_model_fit2.score(X_train_Log,y_train_Log)))\n",
        "print(\"Test set score: {:.2f}\".format(tree_model_fit2.score(X_test_Log,y_test_Log)))\n",
        "#print(\"Number of features used: {}\".format(np.sum(tree_model_fit.coef_ !=0)))\n",
        "\n",
        "y_Tree2_chk = y_test_Log.copy()\n",
        "\n",
        "y_Tree2_chk['predicted']=tree_model_fit2.predict(X_test_Log)\n",
        "# Plot the residuals after fitting a linear model\n",
        "sns.residplot(y_Tree2_chk['predicted'], y_Tree2_chk['response_mv'], lowess=True, color=\"g\")"
      ],
      "execution_count": 38,
      "outputs": [
        {
          "output_type": "stream",
          "text": [
            "Training set score: 0.87\n",
            "Test set score: 0.66\n"
          ],
          "name": "stdout"
        },
        {
          "output_type": "execute_result",
          "data": {
            "text/plain": [
              "<matplotlib.axes._subplots.AxesSubplot at 0x7fbb7f4996d8>"
            ]
          },
          "metadata": {
            "tags": []
          },
          "execution_count": 38
        },
        {
          "output_type": "display_data",
          "data": {
            "image/png": "[encoded data removed]",
            "text/plain": [
              "<matplotlib.figure.Figure at 0x7fbb7f577e80>"
            ]
          },
          "metadata": {
            "tags": []
          }
        }
      ]
    },
    {
      "metadata": {
        "id": "GOmNZT-QNTkp",
        "colab_type": "code",
        "colab": {
          "base_uri": "https://localhost:8080/",
          "height": 68
        },
        "outputId": "0fbd97a7-cf04-4f9f-e5e0-06096f1c93c4"
      },
      "cell_type": "code",
      "source": [
        "print(\"Feature importances:\\n{}\".format(tree_model_fit2.feature_importances_))"
      ],
      "execution_count": 39,
      "outputs": [
        {
          "output_type": "stream",
          "text": [
            "Feature importances:\n",
            "[0.11781841 0.         0.01747432 0.         0.00621571 0.23248833\n",
            " 0.         0.04017902 0.         0.         0.         0.58582421]\n"
          ],
          "name": "stdout"
        }
      ]
    },
    {
      "metadata": {
        "id": "em6oNJuxNTkq",
        "colab_type": "code",
        "colab": {
          "base_uri": "https://localhost:8080/",
          "height": 361
        },
        "outputId": "11aca59a-9bbd-465e-dc49-2776a4aad2ed"
      },
      "cell_type": "code",
      "source": [
        "plot_feature_importances_boston(tree_model_fit2)"
      ],
      "execution_count": 40,
      "outputs": [
        {
          "output_type": "display_data",
          "data": {
            "image/png": "[encoded data removed]",
            "text/plain": [
              "<matplotlib.figure.Figure at 0x7fbb7f504160>"
            ]
          },
          "metadata": {
            "tags": []
          }
        }
      ]
    },
    {
      "metadata": {
        "id": "juKgeOdMNTkr",
        "colab_type": "text"
      },
      "cell_type": "markdown",
      "source": [
        "###Model 2c Random Forest\n",
        "#### Training Score: .91 - Test Score: .85 (Max Depth 4)\n",
        "Observation - improvement on decision tree model - high feature emphasis on 'pct_lowIncome'"
      ]
    },
    {
      "metadata": {
        "id": "WgYN_PqSNTkr",
        "colab_type": "code",
        "colab": {
          "base_uri": "https://localhost:8080/",
          "height": 466
        },
        "outputId": "bfceeb78-bacc-44c6-a9b5-c5974509d914"
      },
      "cell_type": "code",
      "source": [
        "RForest2 = RandomForestRegressor(max_depth=4, random_state=0, n_estimators=100)\n",
        "\n",
        "RForest2.fit(X_train_Log,y_train_Log)\n",
        "\n",
        "print(\"Training set score: {:.2f}\".format(RForest2.score(X_train_Log,y_train_Log)))\n",
        "print(\"Test set score: {:.2f}\".format(RForest2.score(X_test_Log,y_test_Log)))\n",
        "#print(\"Number of features used: {}\".format(np.sum(tree_model_fit.coef_ !=0)))\n",
        "\n",
        "y_RForest2_chk = y_test_Log.copy()\n",
        "y_RForest2_chk['predicted']=RForest2.predict(X_test_Log)\n",
        "# Plot the residuals after fitting a linear model\n",
        "sns.residplot(y_RForest2_chk['predicted'], y_RForest2_chk['response_mv'], lowess=True, color=\"g\")"
      ],
      "execution_count": 41,
      "outputs": [
        {
          "output_type": "stream",
          "text": [
            "/usr/local/lib/python3.6/dist-packages/ipykernel_launcher.py:3: DataConversionWarning: A column-vector y was passed when a 1d array was expected. Please change the shape of y to (n_samples,), for example using ravel().\n",
            "  This is separate from the ipykernel package so we can avoid doing imports until\n"
          ],
          "name": "stderr"
        },
        {
          "output_type": "stream",
          "text": [
            "Training set score: 0.91\n",
            "Test set score: 0.85\n"
          ],
          "name": "stdout"
        },
        {
          "output_type": "execute_result",
          "data": {
            "text/plain": [
              "<matplotlib.axes._subplots.AxesSubplot at 0x7fbb7f3f0f28>"
            ]
          },
          "metadata": {
            "tags": []
          },
          "execution_count": 41
        },
        {
          "output_type": "display_data",
          "data": {
            "image/png": "[encoded data removed]",
            "text/plain": [
              "<matplotlib.figure.Figure at 0x7fbb7f3f05f8>"
            ]
          },
          "metadata": {
            "tags": []
          }
        }
      ]
    },
    {
      "metadata": {
        "id": "F0KbVdJUaBXj",
        "colab_type": "code",
        "colab": {
          "base_uri": "https://localhost:8080/",
          "height": 361
        },
        "outputId": "37de4c9e-f665-4769-a0f3-512103747591"
      },
      "cell_type": "code",
      "source": [
        "plot_feature_importances_boston(RForest2)"
      ],
      "execution_count": 42,
      "outputs": [
        {
          "output_type": "display_data",
          "data": {
            "image/png": "[encoded data removed]",
            "text/plain": [
              "<matplotlib.figure.Figure at 0x7fbb7f2f8c18>"
            ]
          },
          "metadata": {
            "tags": []
          }
        }
      ]
    },
    {
      "metadata": {
        "id": "AnX3f5bhNTks",
        "colab_type": "text"
      },
      "cell_type": "markdown",
      "source": [
        "### Model 2d Gradient Boosting\n",
        "#### Training Score: .94 - Test Score: .86 (Max Depth 2)\n",
        "Observation - 'best' fit for transformed data set and good balance of emphasis across features"
      ]
    },
    {
      "metadata": {
        "id": "9H73CnBHNTks",
        "colab_type": "code",
        "colab": {
          "base_uri": "https://localhost:8080/",
          "height": 136
        },
        "outputId": "1237cbd4-65a5-4b90-8e4d-e8bb3a49f500"
      },
      "cell_type": "code",
      "source": [
        "gbrt2 = GradientBoostingRegressor(max_depth=2, n_estimators=100, random_state=42)\n",
        "gbrt2.fit(X_train_Log,y_train_Log)"
      ],
      "execution_count": 43,
      "outputs": [
        {
          "output_type": "execute_result",
          "data": {
            "text/plain": [
              "GradientBoostingRegressor(alpha=0.9, criterion='friedman_mse', init=None,\n",
              "             learning_rate=0.1, loss='ls', max_depth=2, max_features=None,\n",
              "             max_leaf_nodes=None, min_impurity_decrease=0.0,\n",
              "             min_impurity_split=None, min_samples_leaf=1,\n",
              "             min_samples_split=2, min_weight_fraction_leaf=0.0,\n",
              "             n_estimators=100, presort='auto', random_state=42,\n",
              "             subsample=1.0, verbose=0, warm_start=False)"
            ]
          },
          "metadata": {
            "tags": []
          },
          "execution_count": 43
        }
      ]
    },
    {
      "metadata": {
        "id": "v1ZIgJo2NTkt",
        "colab_type": "code",
        "colab": {
          "base_uri": "https://localhost:8080/",
          "height": 412
        },
        "outputId": "99021c60-b377-4126-afe3-3a3f4d817c54"
      },
      "cell_type": "code",
      "source": [
        "print(\"Training set score: {:.2f}\".format(gbrt2.score(X_train_Log,y_train_Log)))\n",
        "print(\"Test set score: {:.2f}\".format(gbrt2.score(X_test_Log,y_test_Log)))\n",
        "\n",
        "y_gbrt2_chk = y_test_Log.copy()\n",
        "y_gbrt2_chk['predicted']=gbrt2.predict(X_test_Log)\n",
        "# Plot the residuals after fitting a linear model\n",
        "sns.residplot(y_gbrt2_chk['predicted'], y_gbrt2_chk['response_mv'], lowess=True, color=\"g\")"
      ],
      "execution_count": 44,
      "outputs": [
        {
          "output_type": "stream",
          "text": [
            "Training set score: 0.94\n",
            "Test set score: 0.86\n"
          ],
          "name": "stdout"
        },
        {
          "output_type": "execute_result",
          "data": {
            "text/plain": [
              "<matplotlib.axes._subplots.AxesSubplot at 0x7fbb7f26c390>"
            ]
          },
          "metadata": {
            "tags": []
          },
          "execution_count": 44
        },
        {
          "output_type": "display_data",
          "data": {
            "image/png": "[encoded data removed]",
            "text/plain": [
              "<matplotlib.figure.Figure at 0x7fbb7f25ecc0>"
            ]
          },
          "metadata": {
            "tags": []
          }
        }
      ]
    },
    {
      "metadata": {
        "id": "9Rn2GPOXNTku",
        "colab_type": "code",
        "colab": {
          "base_uri": "https://localhost:8080/",
          "height": 361
        },
        "outputId": "515baff4-cbbb-499f-efab-44bfd5ce954c"
      },
      "cell_type": "code",
      "source": [
        "plot_feature_importances_boston(gbrt2)"
      ],
      "execution_count": 45,
      "outputs": [
        {
          "output_type": "display_data",
          "data": {
            "image/png": "[encoded data removed]",
            "text/plain": [
              "<matplotlib.figure.Figure at 0x7fbb7f96b898>"
            ]
          },
          "metadata": {
            "tags": []
          }
        }
      ]
    },
    {
      "metadata": {
        "id": "EIz4_ibkbsdR",
        "colab_type": "text"
      },
      "cell_type": "markdown",
      "source": [
        "## Conclusion\n",
        "\n",
        "It appears that using a Gradient Boosting method works best in both the original data model and the transformed data.  By limiting the depth to Max Depth = 2, the model does not over-fit, and there is a good balance of emphasis across all the features in the model.\n",
        "\n",
        "> ### Recommended model: Model 1d - Gradient Boosting with Max Depth 2\n",
        "\n"
      ]
    }
  ]
}