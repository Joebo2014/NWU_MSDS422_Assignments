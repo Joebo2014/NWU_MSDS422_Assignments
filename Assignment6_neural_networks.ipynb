{
  "nbformat": 4,
  "nbformat_minor": 0,
  "metadata": {
    "colab": {
      "name": "Assignment6_neural_networks.ipynb",
      "version": "0.3.2",
      "provenance": [],
      "collapsed_sections": [
        "UvKh4F18xrcW",
        "AdPaLlOYnc2D",
        "E-4Bj__4n_P-",
        "uxnJvUTMoPFz",
        "U0RE-42Lq8mk"
      ],
      "include_colab_link": true
    },
    "kernelspec": {
      "display_name": "Python 3",
      "language": "python",
      "name": "python3"
    }
  },
  "cells": [
    {
      "cell_type": "markdown",
      "metadata": {
        "id": "view-in-github",
        "colab_type": "text"
      },
      "source": [
        "<a href=\"https://colab.research.google.com/github/talentrics/NWU_MSDS422_Assignments/blob/master/Assignment6_neural_networks.ipynb\" target=\"_parent\"><img src=\"https://colab.research.google.com/assets/colab-badge.svg\" alt=\"Open In Colab\"/></a>"
      ]
    },
    {
      "metadata": {
        "id": "IgqRR8x6xrcV",
        "colab_type": "text"
      },
      "cell_type": "markdown",
      "source": [
        "##MSDS 422 Assignment #6 - Artificial Neural Networks\n",
        "\n",
        "**by Daniel Macdonald @talentrics**\n",
        "\n",
        "**Description**\n",
        "\n",
        "This is the 6th assignment in NWU MSDS 422 - Practical Machine Learning\n",
        "\n",
        "**text:** \n",
        "\n",
        "Initial source code from Aurelien Geron 'Machine Learning with SciKit Learn' Ch. 10\n",
        "https://github.com/ageron/handson-ml\n",
        "\n",
        "**Data Source (MNIST data set in TensorFlow)** - \n",
        "tf.keras.datasets.mnist.load_data()\n",
        "\n",
        "**CoLab Shared Link - this notebook **\n",
        "\n",
        "https://colab.research.google.com/drive/1C0vGy2ANuZu8ZSevwag1ydboKfS1JmMc\n",
        "\n",
        "**GitHub Repository **\n",
        "\n",
        "https://github.com/talentrics/NWU_MSDS422_Assignments\n",
        "\n",
        "**Table of contents:**\n",
        "\n",
        "* System & Data Setup\n",
        "* Model 2a - 2 layer model - 10 neurons per layer\n",
        "* Model 2a - 2 layer model - mixed neurons per layer\n",
        "* Model 2a - 2 layer model - 20 neurons per layer\n",
        "* Model 2a - 2 layer model - mixed neurons per layer\n",
        "* Conclusion"
      ]
    },
    {
      "metadata": {
        "id": "UvKh4F18xrcW",
        "colab_type": "text"
      },
      "cell_type": "markdown",
      "source": [
        "## System & data Setup"
      ]
    },
    {
      "metadata": {
        "id": "H8oD2dqWxrcX",
        "colab_type": "code",
        "colab": {}
      },
      "cell_type": "code",
      "source": [
        "# To support both python 2 and python 3\n",
        "from __future__ import division, print_function, unicode_literals\n",
        "\n",
        "# Common imports\n",
        "import numpy as np\n",
        "import os\n",
        "\n",
        "#suppress tf.logging\n",
        "import logging\n",
        "logging.getLogger('tensorflow').disabled = True\n",
        "\n",
        "# to make this notebook's output stable across runs\n",
        "def reset_graph(seed=42):\n",
        "    tf.reset_default_graph()\n",
        "    tf.set_random_seed(seed)\n",
        "    np.random.seed(seed)\n",
        "\n",
        "# To plot pretty figures\n",
        "%matplotlib inline\n",
        "import matplotlib\n",
        "import matplotlib.pyplot as plt\n",
        "plt.rcParams['axes.labelsize'] = 14\n",
        "plt.rcParams['xtick.labelsize'] = 12\n",
        "plt.rcParams['ytick.labelsize'] = 12\n",
        "\n",
        "# Where to save the figures\n",
        "PROJECT_ROOT_DIR = \".\"\n",
        "CHAPTER_ID = \"ann\"\n",
        "\n",
        "def save_fig(fig_id, tight_layout=True):\n",
        "    path = os.path.join(PROJECT_ROOT_DIR, \"images\", CHAPTER_ID, fig_id + \".png\")\n",
        "    print(\"Saving figure\", fig_id)\n",
        "    if tight_layout:\n",
        "        plt.tight_layout()\n",
        "    plt.savefig(path, format='png', dpi=300)"
      ],
      "execution_count": 0,
      "outputs": []
    },
    {
      "metadata": {
        "id": "AxFwycTUxrca",
        "colab_type": "code",
        "colab": {}
      },
      "cell_type": "code",
      "source": [
        "import tensorflow as tf\n",
        "import numpy as np"
      ],
      "execution_count": 0,
      "outputs": []
    },
    {
      "metadata": {
        "id": "yTDLMoLexrce",
        "colab_type": "code",
        "colab": {}
      },
      "cell_type": "code",
      "source": [
        "#split train & test data\n",
        "(X_train, y_train), (X_test, y_test) = tf.keras.datasets.mnist.load_data()\n",
        "X_train = X_train.astype(np.float32).reshape(-1, 28*28) / 255.0\n",
        "X_test = X_test.astype(np.float32).reshape(-1, 28*28) / 255.0\n",
        "y_train = y_train.astype(np.int32)\n",
        "y_test = y_test.astype(np.int32)"
      ],
      "execution_count": 0,
      "outputs": []
    },
    {
      "metadata": {
        "id": "315g1cvWxrcl",
        "colab_type": "code",
        "colab": {
          "base_uri": "https://localhost:8080/",
          "height": 34
        },
        "outputId": "a5f13fcb-ec8b-41de-a2ae-83530a13fb16"
      },
      "cell_type": "code",
      "source": [
        "#test split 'train'\n",
        "X_train.shape"
      ],
      "execution_count": 37,
      "outputs": [
        {
          "output_type": "execute_result",
          "data": {
            "text/plain": [
              "(60000, 784)"
            ]
          },
          "metadata": {
            "tags": []
          },
          "execution_count": 37
        }
      ]
    },
    {
      "metadata": {
        "id": "PYMa1ghxlh3Q",
        "colab_type": "code",
        "colab": {
          "base_uri": "https://localhost:8080/",
          "height": 34
        },
        "outputId": "c22d20f0-df9d-49b7-d365-f6f880b04cff"
      },
      "cell_type": "code",
      "source": [
        "#test split 'test'\n",
        "X_test.shape"
      ],
      "execution_count": 38,
      "outputs": [
        {
          "output_type": "execute_result",
          "data": {
            "text/plain": [
              "(10000, 784)"
            ]
          },
          "metadata": {
            "tags": []
          },
          "execution_count": 38
        }
      ]
    },
    {
      "metadata": {
        "id": "IK3V7F4uxxOa",
        "colab_type": "code",
        "colab": {
          "base_uri": "https://localhost:8080/",
          "height": 221
        },
        "outputId": "01687731-f3e7-435d-93c0-b98e385def42"
      },
      "cell_type": "code",
      "source": [
        "#check data in training set as visual:\n",
        "print('Training data shape', X_train.shape)\n",
        "_, (ax1, ax2) = plt.subplots(1, 2)\n",
        "ax1.imshow(X_train[0].reshape(28, 28), cmap=plt.cm.Greys);\n",
        "ax2.imshow(X_train[1].reshape(28, 28), cmap=plt.cm.Greys);"
      ],
      "execution_count": 65,
      "outputs": [
        {
          "output_type": "stream",
          "text": [
            "Training data shape (60000, 784)\n"
          ],
          "name": "stdout"
        },
        {
          "output_type": "display_data",
          "data": {
            "image/png": "[encoded data removed]",
            "text/plain": [
              "<matplotlib.figure.Figure at 0x7f679863b8d0>"
            ]
          },
          "metadata": {
            "tags": []
          }
        }
      ]
    },
    {
      "metadata": {
        "id": "AdPaLlOYnc2D",
        "colab_type": "text"
      },
      "cell_type": "markdown",
      "source": [
        "## Model 2a - 2 layer model with 10 Neurons each layer\n",
        "\n",
        "**Evaluation Criteria: **\n",
        "\n",
        "* Time to build: 100 s\n",
        "* Accuracy (Train): .94\n",
        "* Accuracy (Test):  .93"
      ]
    },
    {
      "metadata": {
        "id": "weJLJdBexrch",
        "colab_type": "code",
        "colab": {
          "base_uri": "https://localhost:8080/",
          "height": 51
        },
        "outputId": "10cbb07c-1f11-43d8-f7a3-3b66609a115e"
      },
      "cell_type": "code",
      "source": [
        "#Model 2a - 2D with 10 Neurons each layer\n",
        "%%time\n",
        "feature_cols = [tf.feature_column.numeric_column(\"X\", shape=[28 * 28])]\n",
        "dnn_clf_2a = tf.estimator.DNNClassifier(hidden_units=[10,10], n_classes=10,\n",
        "                                     feature_columns=feature_cols)\n",
        "\n",
        "input_fn_2a = tf.estimator.inputs.numpy_input_fn(\n",
        "    x={\"X\": X_train}, y=y_train, num_epochs=50, batch_size=50, shuffle=True)\n",
        "dnn_clf_2a.train(input_fn=input_fn_2a)"
      ],
      "execution_count": 40,
      "outputs": [
        {
          "output_type": "stream",
          "text": [
            "CPU times: user 2min 33s, sys: 7.56 s, total: 2min 41s\n",
            "Wall time: 1min 40s\n"
          ],
          "name": "stdout"
        }
      ]
    },
    {
      "metadata": {
        "id": "vohn6ZgoiuJk",
        "colab_type": "code",
        "colab": {
          "base_uri": "https://localhost:8080/",
          "height": 85
        },
        "outputId": "d79f6d41-4acd-4665-ff39-01ebbd9ef5cb"
      },
      "cell_type": "code",
      "source": [
        "#evaluate training accuracy (2a)\n",
        "train_2a_input_fn = tf.estimator.inputs.numpy_input_fn(\n",
        "    x={\"X\": X_train}, y=y_train, shuffle=False)\n",
        "eval_results_train_2a = dnn_clf_2a.evaluate(input_fn=train_2a_input_fn)\n",
        "eval_results_train_2a"
      ],
      "execution_count": 43,
      "outputs": [
        {
          "output_type": "execute_result",
          "data": {
            "text/plain": [
              "{'accuracy': 0.9435,\n",
              " 'average_loss': 0.20028083,\n",
              " 'global_step': 60000,\n",
              " 'loss': 25.62228}"
            ]
          },
          "metadata": {
            "tags": []
          },
          "execution_count": 43
        }
      ]
    },
    {
      "metadata": {
        "id": "hRCjC0f1xrcp",
        "colab_type": "code",
        "colab": {
          "base_uri": "https://localhost:8080/",
          "height": 85
        },
        "outputId": "c5765038-9b7e-4207-809d-f7e3055000b6"
      },
      "cell_type": "code",
      "source": [
        "#evaluate test accuracy (2a)\n",
        "test_2a_input_fn = tf.estimator.inputs.numpy_input_fn(\n",
        "    x={\"X\": X_test}, y=y_test, shuffle=False)\n",
        "eval_results_test_2a = dnn_clf_2a.evaluate(input_fn=test_2a_input_fn)\n",
        "eval_results_test_2a"
      ],
      "execution_count": 44,
      "outputs": [
        {
          "output_type": "execute_result",
          "data": {
            "text/plain": [
              "{'accuracy': 0.9328,\n",
              " 'average_loss': 0.2443137,\n",
              " 'global_step': 60000,\n",
              " 'loss': 30.925785}"
            ]
          },
          "metadata": {
            "tags": []
          },
          "execution_count": 44
        }
      ]
    },
    {
      "metadata": {
        "id": "E-4Bj__4n_P-",
        "colab_type": "text"
      },
      "cell_type": "markdown",
      "source": [
        "## Model 2b - 2 layer model with mixed neurons each layer\n",
        "\n",
        "**Evaluation Criteria: **\n",
        "\n",
        "* Time to build: 184 s\n",
        "* Accuracy (Train): .94\n",
        "* Accuracy (Test):  .979"
      ]
    },
    {
      "metadata": {
        "id": "MECyMv9oxrcr",
        "colab_type": "code",
        "colab": {
          "base_uri": "https://localhost:8080/",
          "height": 51
        },
        "outputId": "62298428-abc0-4df9-ad4c-e74e54d8ff30"
      },
      "cell_type": "code",
      "source": [
        "#Model 2b - 2D with 50 Neurons each layer\n",
        "%%time\n",
        "feature_cols = [tf.feature_column.numeric_column(\"X\", shape=[28 * 28])]\n",
        "dnn_clf_2b = tf.estimator.DNNClassifier(hidden_units=[150,50], n_classes=10,\n",
        "                                     feature_columns=feature_cols)\n",
        "\n",
        "input_fn_2b = tf.estimator.inputs.numpy_input_fn(\n",
        "    x={\"X\": X_train}, y=y_train, num_epochs=50, batch_size=50, shuffle=True)\n",
        "dnn_clf_2b.train(input_fn=input_fn_2b)"
      ],
      "execution_count": 57,
      "outputs": [
        {
          "output_type": "stream",
          "text": [
            "CPU times: user 4min 34s, sys: 11.5 s, total: 4min 45s\n",
            "Wall time: 3min 4s\n"
          ],
          "name": "stdout"
        }
      ]
    },
    {
      "metadata": {
        "id": "3T9QbXe8oOVQ",
        "colab_type": "code",
        "colab": {
          "base_uri": "https://localhost:8080/",
          "height": 85
        },
        "outputId": "bffdb4a2-f96f-4b9f-9e46-d2bff2e67601"
      },
      "cell_type": "code",
      "source": [
        "#evaluate training accuracy (2b)\n",
        "train_2b_input_fn = tf.estimator.inputs.numpy_input_fn(\n",
        "    x={\"X\": X_train}, y=y_train, shuffle=False)\n",
        "eval_results_train_2b = dnn_clf_2a.evaluate(input_fn=train_2b_input_fn)\n",
        "eval_results_train_2b"
      ],
      "execution_count": 58,
      "outputs": [
        {
          "output_type": "execute_result",
          "data": {
            "text/plain": [
              "{'accuracy': 0.9435,\n",
              " 'average_loss': 0.20028083,\n",
              " 'global_step': 60000,\n",
              " 'loss': 25.62228}"
            ]
          },
          "metadata": {
            "tags": []
          },
          "execution_count": 58
        }
      ]
    },
    {
      "metadata": {
        "id": "Rgeo7Gh0oOds",
        "colab_type": "code",
        "colab": {
          "base_uri": "https://localhost:8080/",
          "height": 85
        },
        "outputId": "87ad83ea-19eb-4742-9c10-bbfa0df09bf4"
      },
      "cell_type": "code",
      "source": [
        "#evaluate test accuracy (2b)\n",
        "test_2b_input_fn = tf.estimator.inputs.numpy_input_fn(\n",
        "    x={\"X\": X_test}, y=y_test, shuffle=False)\n",
        "eval_results_test_2b = dnn_clf_2b.evaluate(input_fn=test_2a_input_fn)\n",
        "eval_results_test_2b"
      ],
      "execution_count": 59,
      "outputs": [
        {
          "output_type": "execute_result",
          "data": {
            "text/plain": [
              "{'accuracy': 0.9791,\n",
              " 'average_loss': 0.095086426,\n",
              " 'global_step': 60000,\n",
              " 'loss': 12.036257}"
            ]
          },
          "metadata": {
            "tags": []
          },
          "execution_count": 59
        }
      ]
    },
    {
      "metadata": {
        "id": "uxnJvUTMoPFz",
        "colab_type": "text"
      },
      "cell_type": "markdown",
      "source": [
        "## Model 5a - 5 layer model with 20 Neurons each layer\n",
        "**Evaluation Criteria:**\n",
        "* Time to build: 184 s\n",
        "* Accuracy (Train): .96\n",
        "* Accuracy (Test): .94"
      ]
    },
    {
      "metadata": {
        "id": "OQ4aZCsYcdaP",
        "colab_type": "code",
        "colab": {
          "base_uri": "https://localhost:8080/",
          "height": 51
        },
        "outputId": "69b42a5b-e448-4081-c3f0-97860d0ed097"
      },
      "cell_type": "code",
      "source": [
        "#Model 5a - 5D with 20 Neurons each layer\n",
        "%%time\n",
        "feature_cols = [tf.feature_column.numeric_column(\"X\", shape=[28 * 28])]\n",
        "dnn_clf_5a = tf.estimator.DNNClassifier(hidden_units=[20,20,20,20,20], n_classes=10,\n",
        "                                     feature_columns=feature_cols)\n",
        "\n",
        "input_fn_5a = tf.estimator.inputs.numpy_input_fn(\n",
        "    x={\"X\": X_train}, y=y_train, num_epochs=50, batch_size=50, shuffle=True)\n",
        "dnn_clf_5a.train(input_fn=input_fn_5a)"
      ],
      "execution_count": 60,
      "outputs": [
        {
          "output_type": "stream",
          "text": [
            "CPU times: user 3min 4s, sys: 9.28 s, total: 3min 13s\n",
            "Wall time: 2min 1s\n"
          ],
          "name": "stdout"
        }
      ]
    },
    {
      "metadata": {
        "id": "HfHyk2j5gQjf",
        "colab_type": "code",
        "colab": {
          "base_uri": "https://localhost:8080/",
          "height": 85
        },
        "outputId": "1e6acddd-6179-441f-a99a-f2c012208dfc"
      },
      "cell_type": "code",
      "source": [
        "#evaluate training accuracy (5a)\n",
        "train_5a_input_fn = tf.estimator.inputs.numpy_input_fn(\n",
        "    x={\"X\": X_train}, y=y_train, shuffle=False)\n",
        "eval_results_train_5a = dnn_clf_5a.evaluate(input_fn=train_5a_input_fn)\n",
        "eval_results_train_5a"
      ],
      "execution_count": 61,
      "outputs": [
        {
          "output_type": "execute_result",
          "data": {
            "text/plain": [
              "{'accuracy': 0.96585,\n",
              " 'average_loss': 0.11125535,\n",
              " 'global_step': 60000,\n",
              " 'loss': 14.233093}"
            ]
          },
          "metadata": {
            "tags": []
          },
          "execution_count": 61
        }
      ]
    },
    {
      "metadata": {
        "id": "_nzfHhn6gQyu",
        "colab_type": "code",
        "colab": {
          "base_uri": "https://localhost:8080/",
          "height": 85
        },
        "outputId": "3639ca2d-dbd9-45eb-c850-4da3431ec6cd"
      },
      "cell_type": "code",
      "source": [
        "#evaluate test accuracy (5a)\n",
        "test_5a_input_fn = tf.estimator.inputs.numpy_input_fn(\n",
        "    x={\"X\": X_test}, y=y_test, shuffle=False)\n",
        "eval_results_test_5a = dnn_clf_5a.evaluate(input_fn=test_5a_input_fn)\n",
        "eval_results_test_5a"
      ],
      "execution_count": 62,
      "outputs": [
        {
          "output_type": "execute_result",
          "data": {
            "text/plain": [
              "{'accuracy': 0.9477,\n",
              " 'average_loss': 0.20187175,\n",
              " 'global_step': 60000,\n",
              " 'loss': 25.553387}"
            ]
          },
          "metadata": {
            "tags": []
          },
          "execution_count": 62
        }
      ]
    },
    {
      "metadata": {
        "id": "U0RE-42Lq8mk",
        "colab_type": "text"
      },
      "cell_type": "markdown",
      "source": [
        "## Model 5b - 5 layer model with mixed neurons each layer\n",
        "**Evaluation Criteria:**\n",
        "* Time to build: 305 s\n",
        "* Accuracy (Train): 1.0\n",
        "* Accuracy (Test): .975"
      ]
    },
    {
      "metadata": {
        "id": "lNHomCONgm75",
        "colab_type": "code",
        "colab": {
          "base_uri": "https://localhost:8080/",
          "height": 51
        },
        "outputId": "985dd60b-8c61-4571-ad89-c4602cbe4d8d"
      },
      "cell_type": "code",
      "source": [
        "#Model 5b - 5D with Mixed Neurons each layer (300,200,100,50,25)\n",
        "%%time\n",
        "feature_cols = [tf.feature_column.numeric_column(\"X\", shape=[28 * 28])]\n",
        "dnn_clf_5b = tf.estimator.DNNClassifier(hidden_units=[300,200,100,50,25], n_classes=10,\n",
        "                                     feature_columns=feature_cols)\n",
        "\n",
        "input_fn_5b = tf.estimator.inputs.numpy_input_fn(\n",
        "    x={\"X\": X_train}, y=y_train, num_epochs=50, batch_size=50, shuffle=True)\n",
        "dnn_clf_5b.train(input_fn=input_fn_5b)"
      ],
      "execution_count": 54,
      "outputs": [
        {
          "output_type": "stream",
          "text": [
            "CPU times: user 7min 56s, sys: 27.6 s, total: 8min 24s\n",
            "Wall time: 5min 5s\n"
          ],
          "name": "stdout"
        }
      ]
    },
    {
      "metadata": {
        "id": "m8m4ENgggnDt",
        "colab_type": "code",
        "colab": {
          "base_uri": "https://localhost:8080/",
          "height": 85
        },
        "outputId": "43f2b7db-f8c5-425a-975a-8b76891af29b"
      },
      "cell_type": "code",
      "source": [
        "#evaluate training accuracy (5a)\n",
        "train_5b_input_fn = tf.estimator.inputs.numpy_input_fn(\n",
        "    x={\"X\": X_train}, y=y_train, shuffle=False)\n",
        "eval_results_train_5b = dnn_clf_5b.evaluate(input_fn=train_5b_input_fn)\n",
        "eval_results_train_5b"
      ],
      "execution_count": 55,
      "outputs": [
        {
          "output_type": "execute_result",
          "data": {
            "text/plain": [
              "{'accuracy': 1.0,\n",
              " 'average_loss': 4.077159e-05,\n",
              " 'global_step': 60000,\n",
              " 'loss': 0.0052159815}"
            ]
          },
          "metadata": {
            "tags": []
          },
          "execution_count": 55
        }
      ]
    },
    {
      "metadata": {
        "id": "h66qiYu1rcLz",
        "colab_type": "code",
        "colab": {
          "base_uri": "https://localhost:8080/",
          "height": 85
        },
        "outputId": "539f6789-853d-4d7e-e139-e064a7744a82"
      },
      "cell_type": "code",
      "source": [
        "#evaluate test accuracy (5a)\n",
        "test_5b_input_fn = tf.estimator.inputs.numpy_input_fn(\n",
        "    x={\"X\": X_test}, y=y_test, shuffle=False)\n",
        "eval_results_test_5b = dnn_clf_5b.evaluate(input_fn=test_5b_input_fn)\n",
        "eval_results_test_5b"
      ],
      "execution_count": 56,
      "outputs": [
        {
          "output_type": "execute_result",
          "data": {
            "text/plain": [
              "{'accuracy': 0.9757,\n",
              " 'average_loss': 0.22292946,\n",
              " 'global_step': 60000,\n",
              " 'loss': 28.21892}"
            ]
          },
          "metadata": {
            "tags": []
          },
          "execution_count": 56
        }
      ]
    },
    {
      "metadata": {
        "collapsed": true,
        "id": "nl7glnIrxrcy",
        "colab_type": "text"
      },
      "cell_type": "markdown",
      "source": [
        "## Conclusion\n",
        "\n",
        "Recommendation to select model 5b - although it takes much longer to build, the accuracy is significantly higher (.975)"
      ]
    }
  ]
}