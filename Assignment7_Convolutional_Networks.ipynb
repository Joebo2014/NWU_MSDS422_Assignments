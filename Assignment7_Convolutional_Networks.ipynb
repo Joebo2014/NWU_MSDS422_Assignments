{
  "nbformat": 4,
  "nbformat_minor": 0,
  "metadata": {
    "colab": {
      "name": "Assignment7_Convolutional_Networks.ipynb",
      "version": "0.3.2",
      "provenance": [],
      "collapsed_sections": [
        "HMU_850VDThi",
        "z2mHp_QlDTiC",
        "yuaiLtBQDTiF",
        "YOcrQi05DTiK",
        "TmFFf7r0DTiL",
        "Sr8zpQB-DTiR",
        "8FgWbhfGDTiR",
        "SaGvPdW5DTiU",
        "ALdfr99VDTiV",
        "BlpMwfGHDTiX",
        "6zPjoBAgDTiX",
        "xaLQRnzyDTia"
      ],
      "include_colab_link": true
    },
    "kernelspec": {
      "display_name": "Python 3",
      "language": "python",
      "name": "python3"
    }
  },
  "cells": [
    {
      "cell_type": "markdown",
      "metadata": {
        "id": "view-in-github",
        "colab_type": "text"
      },
      "source": [
        "<a href=\"https://colab.research.google.com/github/talentrics/NWU_MSDS422_Assignments/blob/master/Assignment7_Convolutional_Networks.ipynb\" target=\"_parent\"><img src=\"https://colab.research.google.com/assets/colab-badge.svg\" alt=\"Open In Colab\"/></a>"
      ]
    },
    {
      "metadata": {
        "id": "KxOkSE1NDThh",
        "colab_type": "text"
      },
      "cell_type": "markdown",
      "source": [
        "## MSDS 422 Assignment #7 - Convolutional Neural Networks\n",
        "\n",
        "**by Daniel Macdonald @talentrics**\n",
        "\n",
        "**Description**\n",
        "\n",
        "This is the 7th assignment in NWU MSDS 422 - Practical Machine Learning\n",
        "\n",
        "**text:** \n",
        "\n",
        "Initial source code from Aurelien Geron 'Machine Learning with SciKit Learn' Ch. 13\n",
        "https://github.com/ageron/handson-ml\n",
        "\n",
        "Additional resources & code referenced:\n",
        "\n",
        "http://www.subsubroutine.com/sub-subroutine/2016/9/30/cats-and-dogs-and-convolutional-neural-networks\n",
        "\n",
        "**Data Source (Cats vs. Dogs - Kaggle) - link to folder in google drive**\n",
        "\n",
        "https://drive.google.com/open?id=1OGXhQaIiCOO67HPFHWHnRh_5jgx518Dx\n",
        "**download this ipynb and install files to your current working directory**\n",
        "\n",
        "**Colab Notebook:**\n",
        "https://colab.research.google.com/drive/1ihd88__vcV52NdAXZaNGWT0Pq11PIL9W\n",
        "\n",
        "\n",
        "**GitHub Repository **\n",
        "\n",
        "https://github.com/talentrics/NWU_MSDS422_Assignments\n",
        "\n",
        "**Table of contents:**\n",
        "\n",
        "* System & Data Setup\n",
        "* Model 1 - 5 layer DNN using Min-Max data Scaler\n",
        "* Model 2 - 5 layer DNN using Robust data Scaler\n",
        "* Model 3 - Convolutional Neural Network\n",
        "* Conclusion"
      ]
    },
    {
      "metadata": {
        "id": "HMU_850VDThi",
        "colab_type": "text"
      },
      "cell_type": "markdown",
      "source": [
        "## System and Data Setup"
      ]
    },
    {
      "metadata": {
        "id": "8WKrZjP8D2Bt",
        "colab_type": "text"
      },
      "cell_type": "markdown",
      "source": [
        "Recommended - download this notebook as ipynb to your local disk.\n",
        "To properly run the code, you will need to install the file linked from Google Drive to your current working directory.  Link to shared folder above."
      ]
    },
    {
      "metadata": {
        "id": "ZThCvn7xDThj",
        "colab_type": "code",
        "colab": {},
        "outputId": "f85063a0-00de-4910-eeb8-b40e8143ea96"
      },
      "cell_type": "code",
      "source": [
        "import os\n",
        "os.getcwd()"
      ],
      "execution_count": 0,
      "outputs": [
        {
          "output_type": "execute_result",
          "data": {
            "text/plain": [
              "'/Users/talentrics/tfexperiments'"
            ]
          },
          "metadata": {
            "tags": []
          },
          "execution_count": 41
        }
      ]
    },
    {
      "metadata": {
        "id": "LT_zMBC-DTho",
        "colab_type": "text"
      },
      "cell_type": "markdown",
      "source": [
        "### file note: be sure to install provided folder of images 'cats_dogs_images' in your cwd\n",
        "this is to ensure that the code below will reference & pull in the data properly"
      ]
    },
    {
      "metadata": {
        "id": "6aTf1e3cDThp",
        "colab_type": "code",
        "colab": {}
      },
      "cell_type": "code",
      "source": [
        "from __future__ import division, print_function, absolute_import\n",
        "\n",
        "from skimage import color, io\n",
        "from scipy.misc import imresize\n",
        "import numpy as np\n",
        "from sklearn.cross_validation import train_test_split\n",
        "import os\n",
        "import os.path  # for manipulation of file path names\n",
        "from glob import glob\n",
        "\n",
        "from matplotlib import pyplot as plt  # for display of images\n",
        "\n",
        "import tflearn\n",
        "from tflearn.data_utils import shuffle, to_categorical\n",
        "from tflearn.layers.core import input_data, dropout, fully_connected\n",
        "from tflearn.layers.conv import conv_2d, max_pool_2d\n",
        "from tflearn.layers.estimator import regression\n",
        "from tflearn.data_preprocessing import ImagePreprocessing\n",
        "from tflearn.data_augmentation import ImageAugmentation\n",
        "from tflearn.metrics import Accuracy\n",
        "\n",
        "# Open CV for image processing\n",
        "# Installed on Mac with pip install opencv-python \n",
        "import cv2  \n",
        "\n",
        "import tensorflow as tf\n",
        "\n",
        "# \"Human\" sorting of file names facilitated by\n",
        "# https://nedbatchelder.com/blog/200712/human_sorting.html\n",
        "import re\n",
        "\n",
        "import time\n",
        "\n",
        "#suppress tf.logging\n",
        "import logging\n",
        "logging.getLogger('tensorflow').disabled = True\n",
        "\n",
        "RANDOM_SEED = 9999"
      ],
      "execution_count": 0,
      "outputs": []
    },
    {
      "metadata": {
        "id": "PzoSJJ5NDThs",
        "colab_type": "code",
        "colab": {}
      },
      "cell_type": "code",
      "source": [
        "def tryint(s):\n",
        "    try:\n",
        "        return int(s)\n",
        "    except:\n",
        "        return s\n",
        "\n",
        "def alphanum_key(s):\n",
        "    \"\"\" Turn a string into a list of string and number chunks.\n",
        "        \"z23a\" -> [\"z\", 23, \"a\"]\n",
        "    \"\"\"\n",
        "    return [ tryint(c) for c in re.split('([0-9]+)', s) ]\n",
        "\n",
        "def sort_nicely(l):\n",
        "    \"\"\" Sort the given list in the way that humans expect.\n",
        "    \"\"\"\n",
        "    l.sort(key=alphanum_key)\n",
        "    \n",
        "# Generate nicely sorted list of file names, excluding hidden files    \n",
        "def directory_list (dir_name):\n",
        "    start_list = os.listdir(dir_name)\n",
        "    end_list = []\n",
        "    for file in start_list:\n",
        "        if (not file.startswith('.')):\n",
        "            end_list.append(file) \n",
        "    end_list.sort(key = alphanum_key)        \n",
        "    return(end_list)        \n",
        "    \n",
        "# Convert image to numpy array... \n",
        "# Three channels for color converted to grayscale\n",
        "def parse_grayscale(image_file_path):\n",
        "    image = cv2.imread(image_file_path, cv2.IMREAD_GRAYSCALE)\n",
        "    return(image)\n",
        "    \n",
        "# Convert image to numpy array... three channels for color\n",
        "def parse_color(image_file_path):\n",
        "    image = cv2.imread(image_file_path, cv2.IMREAD_COLOR)\n",
        "    # Default cv2 is BGR... need RGB\n",
        "    image = cv2.cvtColor(image, cv2.COLOR_BGR2RGB)\n",
        "    return(image)\n",
        "  \n",
        "def parse_grayscale_and_resize(image_file_path, size = (64, 64)):\n",
        "    image = cv2.imread(image_file_path, cv2.IMREAD_GRAYSCALE)\n",
        "    image = cv2.resize(image, size)\n",
        "    return(image)\n",
        "\n",
        "def parse_color_and_resize(image_file_path, size = (64, 64)):\n",
        "    image = cv2.imread(image_file_path, cv2.IMREAD_COLOR)\n",
        "    # Default cv2 is BGR... need RGB\n",
        "    image = cv2.cvtColor(image, cv2.COLOR_BGR2RGB)\n",
        "    image = cv2.resize(image, size)\n",
        "    return(image)  \n",
        "    \n",
        "def show_grayscale_image(image):\n",
        "    plt.imshow(image, cmap = 'gray') \n",
        "    plt.axis('off')\n",
        "    plt.show()\n",
        "\n",
        "def show_color_image(image):\n",
        "    plt.imshow(image) \n",
        "    plt.axis('off')\n",
        "    plt.show()   \n",
        "\n",
        "# To make output stable across runs\n",
        "def reset_graph(seed= RANDOM_SEED):\n",
        "    tf.reset_default_graph()\n",
        "    tf.set_random_seed(seed)\n",
        "    np.random.seed(seed)"
      ],
      "execution_count": 0,
      "outputs": []
    },
    {
      "metadata": {
        "id": "rSq5cuiGDThu",
        "colab_type": "text"
      },
      "cell_type": "markdown",
      "source": [
        "### Import Picture Files"
      ]
    },
    {
      "metadata": {
        "id": "fcHWeBTHDThv",
        "colab_type": "code",
        "colab": {}
      },
      "cell_type": "code",
      "source": [
        "# establish directory reference & directory lists\n",
        "# if folder 'cats_dogs_images' is in your cwd, this works:\n",
        "\n",
        "cat_image_dir_name = 'cats_dogs_images/cats'\n",
        "cat_file_names = directory_list('cats_dogs_images/cats')\n",
        "\n",
        "dog_image_dir_name = 'cats_dogs_images/dogs'\n",
        "dog_file_names = directory_list('cats_dogs_images/dogs')\n",
        "\n",
        "# create dict of cat & dog file shapes for each image:\n",
        "\n",
        "cats_shapes = []\n",
        "\n",
        "for ifile in range(len(cat_file_names)):\n",
        "    image_file_path = os.path.join(cat_image_dir_name, cat_file_names[ifile])\n",
        "    image = parse_color(image_file_path)\n",
        "    cats_shapes.append(image.shape)   \n",
        "\n",
        "dogs_shapes = []\n",
        "\n",
        "for ifile in range(len(cat_file_names)):\n",
        "    image_file_path = os.path.join(dog_image_dir_name, dog_file_names[ifile])\n",
        "    image = parse_color(image_file_path)\n",
        "    dogs_shapes.append(image.shape) \n"
      ],
      "execution_count": 0,
      "outputs": []
    },
    {
      "metadata": {
        "id": "_53uuwl0DThx",
        "colab_type": "text"
      },
      "cell_type": "markdown",
      "source": [
        "Create 4 file np arrays - 1000x Cats & Dogs in both 128x128 greyscale & 64x64 color"
      ]
    },
    {
      "metadata": {
        "id": "-t4xWJ_fDThy",
        "colab_type": "code",
        "colab": {}
      },
      "cell_type": "code",
      "source": [
        "# Create cats_1000_128_128_1 and np array for 1000 cat images in greyscale\n",
        "cats_1000_128_128_1 = np.zeros((1000, 128, 128, 1))  \n",
        "\n",
        "for ifile in range(len(cat_file_names)):\n",
        "    image_file_path = os.path.join('cats_dogs_images/cats', cat_file_names[ifile])\n",
        "    image = parse_grayscale_and_resize(image_file_path, size = (128, 128))\n",
        "    cats_1000_128_128_1[ifile,:,:,0] = image\n",
        "    \n",
        "# Create dogs_1000_128_128_1 and numpy array for 1000 dog images in grayscale   \n",
        "dogs_1000_128_128_1 = np.zeros((1000, 128, 128, 1))  \n",
        "\n",
        "for ifile in range(len(dog_file_names)):\n",
        "    image_file_path = os.path.join('cats_dogs_images/dogs', dog_file_names[ifile])\n",
        "    image = parse_grayscale_and_resize(image_file_path, size = (128, 128))\n",
        "    dogs_1000_128_128_1[ifile,:,:,0] = image   \n",
        "\n",
        "# Create cats_1000_64_64_3 and numpy array for 1000 cat images in color  \n",
        "cats_1000_64_64_3 = np.zeros((1000, 64, 64, 3))  \n",
        "    \n",
        "for ifile in range(len(cat_file_names)):\n",
        "    image_file_path = os.path.join(cat_image_dir_name, cat_file_names[ifile])\n",
        "    image = parse_color_and_resize(image_file_path, size = (64, 64))\n",
        "    cats_1000_64_64_3[ifile,:,:,:] = image\n",
        "        \n",
        "# Create dogs_1000_64_64_3 and numpy array for 1000 dog images in color   \n",
        "dogs_1000_64_64_3 = np.zeros((1000, 64, 64, 3))  \n",
        "\n",
        "for ifile in range(len(dog_file_names)):\n",
        "    image_file_path = os.path.join(dog_image_dir_name, dog_file_names[ifile])\n",
        "    image = parse_color_and_resize(image_file_path, size = (64, 64))\n",
        "    dogs_1000_64_64_3[ifile,:,:,:] = image"
      ],
      "execution_count": 0,
      "outputs": []
    },
    {
      "metadata": {
        "id": "OFAMrLYlDTh0",
        "colab_type": "text"
      },
      "cell_type": "markdown",
      "source": [
        "Save arrays to new directories"
      ]
    },
    {
      "metadata": {
        "id": "t8J_5mBnDTh0",
        "colab_type": "code",
        "colab": {}
      },
      "cell_type": "code",
      "source": [
        "os.mkdir('outdir_color') #only needed 1x\n",
        "os.mkdir('outdir_greyscale') #only needed 1x"
      ],
      "execution_count": 0,
      "outputs": []
    },
    {
      "metadata": {
        "id": "x7N4S4PiDTh2",
        "colab_type": "code",
        "colab": {},
        "outputId": "09c6de4e-4146-4aae-8bd5-4807d2a2ceed"
      },
      "cell_type": "code",
      "source": [
        "os.listdir() # check new directorys exist"
      ],
      "execution_count": 0,
      "outputs": [
        {
          "output_type": "execute_result",
          "data": {
            "text/plain": [
              "['cats_dogs_images',\n",
              " '.DS_Store',\n",
              " 'Assignment7_Convolutional_Networks.ipynb',\n",
              " 'outdir_greyscale',\n",
              " 'Draft_assignment2.ipynb',\n",
              " 'outdir_color',\n",
              " '.gitignore',\n",
              " '.ipynb_checkpoints',\n",
              " '.git',\n",
              " '.vscode']"
            ]
          },
          "metadata": {
            "tags": []
          },
          "execution_count": 51
        }
      ]
    },
    {
      "metadata": {
        "id": "7gwlECqeDTh5",
        "colab_type": "code",
        "colab": {}
      },
      "cell_type": "code",
      "source": [
        "#save new np array to new directory\n",
        "np.save(os.path.join('outdir_color', 'cats_1000_64_64_3.npy'), cats_1000_64_64_3)\n",
        "np.save(os.path.join('outdir_color', 'dogs_1000_64_64_3.npy'), dogs_1000_64_64_3)\n",
        "np.save(os.path.join('outdir_greyscale', 'cats_1000_128_128_1.npy'), cats_1000_128_128_1)\n",
        "np.save(os.path.join('outdir_greyscale', 'dogs_1000_128_128_1.npy'), dogs_1000_128_128_1)"
      ],
      "execution_count": 0,
      "outputs": []
    },
    {
      "metadata": {
        "id": "H-2AaffqDTh6",
        "colab_type": "code",
        "colab": {},
        "outputId": "4e4915f1-bf5e-4e2f-88c5-420d20694e60"
      },
      "cell_type": "code",
      "source": [
        "os.listdir('outdir_greyscale') #check array saved correctly"
      ],
      "execution_count": 0,
      "outputs": [
        {
          "output_type": "execute_result",
          "data": {
            "text/plain": [
              "['cats_1000_128_128_1.npy', 'dogs_1000_128_128_1.npy']"
            ]
          },
          "metadata": {
            "tags": []
          },
          "execution_count": 82
        }
      ]
    },
    {
      "metadata": {
        "id": "gKdSkWVIDTh8",
        "colab_type": "code",
        "colab": {},
        "outputId": "43d383ca-bafe-439b-825a-ccef7da7f3dd"
      },
      "cell_type": "code",
      "source": [
        "os.listdir('outdir_color') #check array saved correctly"
      ],
      "execution_count": 0,
      "outputs": [
        {
          "output_type": "execute_result",
          "data": {
            "text/plain": [
              "['cats_1000_64_64_3.npy', 'dogs_1000_64_64_3.npy']"
            ]
          },
          "metadata": {
            "tags": []
          },
          "execution_count": 83
        }
      ]
    },
    {
      "metadata": {
        "id": "qXkbLWWFDTh-",
        "colab_type": "text"
      },
      "cell_type": "markdown",
      "source": [
        "Have a look at cuteness to check things are working and enjoy the work so far:"
      ]
    },
    {
      "metadata": {
        "id": "N1xi24j4DTh-",
        "colab_type": "code",
        "colab": {},
        "outputId": "dd5fc9b7-7b45-44a6-c3bc-b690f259e14e"
      },
      "cell_type": "code",
      "source": [
        "# Examine first cat and first dog color images\n",
        "show_color_image(cats_1000_64_64_3[0,:,:,2])\n",
        "show_color_image(dogs_1000_64_64_3[0,:,:,2])"
      ],
      "execution_count": 0,
      "outputs": [
        {
          "output_type": "display_data",
          "data": {
            "image/png": "[encoded data removed]",
            "text/plain": [
              "<Figure size 432x288 with 1 Axes>"
            ]
          },
          "metadata": {
            "tags": []
          }
        },
        {
          "output_type": "display_data",
          "data": {
            "image/png": "[encoded data removed]",
            "text/plain": [
              "<Figure size 432x288 with 1 Axes>"
            ]
          },
          "metadata": {
            "tags": []
          }
        }
      ]
    },
    {
      "metadata": {
        "id": "LNbZLQphDTiA",
        "colab_type": "code",
        "colab": {},
        "outputId": "df0c7e0e-9c08-4327-ea26-9b18fc17f950"
      },
      "cell_type": "code",
      "source": [
        "# Examine first cat and first dog grayscale images\n",
        "show_grayscale_image(cats_1000_128_128_1[3,:,:,0])\n",
        "show_grayscale_image(dogs_1000_128_128_1[4,:,:,0])"
      ],
      "execution_count": 0,
      "outputs": [
        {
          "output_type": "display_data",
          "data": {
            "image/png": "[encoded data removed]",
            "text/plain": [
              "<Figure size 432x288 with 1 Axes>"
            ]
          },
          "metadata": {
            "tags": []
          }
        },
        {
          "output_type": "display_data",
          "data": {
            "image/png": "[encoded data removed]",
            "text/plain": [
              "<Figure size 432x288 with 1 Axes>"
            ]
          },
          "metadata": {
            "tags": []
          }
        }
      ]
    },
    {
      "metadata": {
        "id": "ZVHX4DSjDTiB",
        "colab_type": "text"
      },
      "cell_type": "markdown",
      "source": [
        "### split training/test data and create scaler data sets"
      ]
    },
    {
      "metadata": {
        "id": "z2mHp_QlDTiC",
        "colab_type": "text"
      },
      "cell_type": "markdown",
      "source": [
        "#### 1) first create X_data & y_data for model 1 & 2 using greyscale images (y = target 0/1)"
      ]
    },
    {
      "metadata": {
        "id": "ke9CKBd8DTiC",
        "colab_type": "code",
        "colab": {},
        "outputId": "f1b5abf0-d58a-4803-be29-a93a7e54d11d"
      },
      "cell_type": "code",
      "source": [
        "# Stack the numpy arrays for the inputs\n",
        "X_cat_dog = np.concatenate((cats_1000_128_128_1, dogs_1000_128_128_1), axis = 0) \n",
        "X_cat_dog = X_cat_dog.reshape(-1,width*height) # note coversion to 16384 (128x128) inputs\n",
        "# Define the labels to be used 1000 cats = 0 1000 dogs = 1\n",
        "y_cat_dog = np.concatenate((np.zeros((1000), dtype = np.int32), \n",
        "                      np.ones((1000), dtype = np.int32)), axis = 0)\n",
        "X_cat_dog.shape #check data shape"
      ],
      "execution_count": 0,
      "outputs": [
        {
          "output_type": "execute_result",
          "data": {
            "text/plain": [
              "(2000, 16384)"
            ]
          },
          "metadata": {
            "tags": []
          },
          "execution_count": 84
        }
      ]
    },
    {
      "metadata": {
        "id": "eVXElbdpDTiE",
        "colab_type": "code",
        "colab": {},
        "outputId": "35dcd766-7a43-4d94-b5f8-cc7dcc7f5ace"
      },
      "cell_type": "code",
      "source": [
        "y_cat_dog.shape #check target data shape"
      ],
      "execution_count": 0,
      "outputs": [
        {
          "output_type": "execute_result",
          "data": {
            "text/plain": [
              "(2000,)"
            ]
          },
          "metadata": {
            "tags": []
          },
          "execution_count": 85
        }
      ]
    },
    {
      "metadata": {
        "id": "yuaiLtBQDTiF",
        "colab_type": "text"
      },
      "cell_type": "markdown",
      "source": [
        "#### 2) second create scaler variables for model 1 (Min_Max) & model 2 (Robust) "
      ]
    },
    {
      "metadata": {
        "id": "y8u-F80UDTiG",
        "colab_type": "code",
        "colab": {}
      },
      "cell_type": "code",
      "source": [
        "#Scikit Learn for min-max scaling of the data\n",
        "from sklearn.preprocessing import MinMaxScaler\n",
        "scaler = MinMaxScaler()\n",
        "scaler.fit(np.array([0., 255.]).reshape(-1,1)) \n",
        "X_cat_dog_min_max = scaler.transform(X_cat_dog)"
      ],
      "execution_count": 0,
      "outputs": []
    },
    {
      "metadata": {
        "id": "tQOhKQeKDTiG",
        "colab_type": "code",
        "colab": {}
      },
      "cell_type": "code",
      "source": [
        "#Scikit Learn for min-max scaling of the data\n",
        "from sklearn.preprocessing import RobustScaler\n",
        "scaler2 = RobustScaler()\n",
        "scaler2.fit(np.array([0., 255.]).reshape(-1,1)) \n",
        "X_cat_dog_robust_scale = scaler2.transform(X_cat_dog)"
      ],
      "execution_count": 0,
      "outputs": []
    },
    {
      "metadata": {
        "id": "ng_vHv5hDTiH",
        "colab_type": "code",
        "colab": {},
        "outputId": "dcbaae50-f32a-44d3-af96-13823cd1a18c"
      },
      "cell_type": "code",
      "source": [
        "X_cat_dog_min_max.shape"
      ],
      "execution_count": 0,
      "outputs": [
        {
          "output_type": "execute_result",
          "data": {
            "text/plain": [
              "(2000, 16384)"
            ]
          },
          "metadata": {
            "tags": []
          },
          "execution_count": 88
        }
      ]
    },
    {
      "metadata": {
        "id": "HnLj7DbdDTiJ",
        "colab_type": "code",
        "colab": {},
        "outputId": "41b3f4fd-9b55-463f-afb6-3612c74919bd"
      },
      "cell_type": "code",
      "source": [
        "X_cat_dog_robust_scale.shape"
      ],
      "execution_count": 0,
      "outputs": [
        {
          "output_type": "execute_result",
          "data": {
            "text/plain": [
              "(2000, 16384)"
            ]
          },
          "metadata": {
            "tags": []
          },
          "execution_count": 89
        }
      ]
    },
    {
      "metadata": {
        "id": "YOcrQi05DTiK",
        "colab_type": "text"
      },
      "cell_type": "markdown",
      "source": [
        "#### 3) split train & test data for model 1, 2 (greyscale using scalers)"
      ]
    },
    {
      "metadata": {
        "id": "IHWCIxM_DTiK",
        "colab_type": "code",
        "colab": {}
      },
      "cell_type": "code",
      "source": [
        "# Scikit Learn for random splitting of the data  \n",
        "from sklearn.model_selection import train_test_split\n",
        "\n",
        "# Random splitting of the data in to training (80%) and test (20%)  \n",
        "X_train_m1, X_test_m1, y_train_m1, y_test_m1 = \\\n",
        "    train_test_split(X_cat_dog_min_max, y_cat_dog, test_size=0.20, \n",
        "                     random_state = RANDOM_SEED)\n",
        "\n",
        "# Random splitting of the data in to training (80%) and test (20%)  \n",
        "X_train_m2, X_test_m2, y_train_m2, y_test_m2 = \\\n",
        "    train_test_split(X_cat_dog_robust_scale, y_cat_dog, test_size=0.20, \n",
        "                     random_state = RANDOM_SEED)"
      ],
      "execution_count": 0,
      "outputs": []
    },
    {
      "metadata": {
        "id": "TmFFf7r0DTiL",
        "colab_type": "text"
      },
      "cell_type": "markdown",
      "source": [
        "#### 4) create train/test data for model 3 (unscaled color 64x64)"
      ]
    },
    {
      "metadata": {
        "id": "O0cT5XAIDTiL",
        "colab_type": "code",
        "colab": {},
        "outputId": "9f8a8c0f-69f5-4464-ea2b-9a4e63130bbe"
      },
      "cell_type": "code",
      "source": [
        "X_cat_dog_m3 = np.concatenate((cats_1000_64_64_3, dogs_1000_64_64_3), axis = 0) \n",
        "#X_cat_dog = X_cat_dog.reshape(-1,width*height) # note coversion to 16384 (128x128) inputs\n",
        "#Define the labels to be used 1000 cats = 0 1000 dogs = 1\n",
        "y_cat_dog_m3 = np.concatenate((np.zeros((1000), dtype = np.int32), \n",
        "                      np.ones((1000), dtype = np.int32)), axis = 0)\n",
        "X_cat_dog_m3.shape #check data shape"
      ],
      "execution_count": 0,
      "outputs": [
        {
          "output_type": "execute_result",
          "data": {
            "text/plain": [
              "(2000, 64, 64, 3)"
            ]
          },
          "metadata": {
            "tags": []
          },
          "execution_count": 101
        }
      ]
    },
    {
      "metadata": {
        "id": "ucZ4A0iDDTiM",
        "colab_type": "code",
        "colab": {},
        "outputId": "b541dc2b-1f4b-4314-aea6-dccd2cadc3cf"
      },
      "cell_type": "code",
      "source": [
        "y_cat_dog_m3.shape #check data shape"
      ],
      "execution_count": 0,
      "outputs": [
        {
          "output_type": "execute_result",
          "data": {
            "text/plain": [
              "(2000,)"
            ]
          },
          "metadata": {
            "tags": []
          },
          "execution_count": 102
        }
      ]
    },
    {
      "metadata": {
        "id": "cZWMchWMDTiN",
        "colab_type": "code",
        "colab": {}
      },
      "cell_type": "code",
      "source": [
        "# test-train split   \n",
        "X_m3, X_test_m3, Y_m3, Y_test_m3 = train_test_split(X_cat_dog_m3, y_cat_dog_m3, test_size=0.2, random_state=42)\n",
        "\n",
        "# encode the Ys\n",
        "Y_m3 = to_categorical(Y_m3, 2)\n",
        "Y_test_m3 = to_categorical(Y_test_m3, 2)"
      ],
      "execution_count": 0,
      "outputs": []
    },
    {
      "metadata": {
        "id": "HTy8RmvJDTiO",
        "colab_type": "code",
        "colab": {},
        "outputId": "1c762461-1cc3-4600-9b9c-883474d5bb48"
      },
      "cell_type": "code",
      "source": [
        "X_m3.shape"
      ],
      "execution_count": 0,
      "outputs": [
        {
          "output_type": "execute_result",
          "data": {
            "text/plain": [
              "(1600, 64, 64, 3)"
            ]
          },
          "metadata": {
            "tags": []
          },
          "execution_count": 111
        }
      ]
    },
    {
      "metadata": {
        "id": "_8ouUT5XDTiP",
        "colab_type": "code",
        "colab": {},
        "outputId": "b6efaf03-7fa1-4e2b-d994-dc41d88981db"
      },
      "cell_type": "code",
      "source": [
        "Y_m3.shape"
      ],
      "execution_count": 0,
      "outputs": [
        {
          "output_type": "execute_result",
          "data": {
            "text/plain": [
              "(1600, 2)"
            ]
          },
          "metadata": {
            "tags": []
          },
          "execution_count": 112
        }
      ]
    },
    {
      "metadata": {
        "id": "Sr8zpQB-DTiR",
        "colab_type": "text"
      },
      "cell_type": "markdown",
      "source": [
        "## Prepare Model 1 & 2 (5 layer DNN)\n",
        "data source - 128 x 128 greyscale images passed through multiple layers"
      ]
    },
    {
      "metadata": {
        "id": "8FgWbhfGDTiR",
        "colab_type": "text"
      },
      "cell_type": "markdown",
      "source": [
        "#### define neuron layer, hyperparameters & model design"
      ]
    },
    {
      "metadata": {
        "id": "B3AMjeIVDTiR",
        "colab_type": "code",
        "colab": {}
      },
      "cell_type": "code",
      "source": [
        "# setup - define neuron layer\n",
        "def neuron_layer(X, n_neurons, name, activation=None):\n",
        "    with tf.name_scope(name):\n",
        "        n_inputs = int(X.get_shape()[1])\n",
        "        stddev = 2 / np.sqrt(n_inputs)\n",
        "        init = tf.truncated_normal((n_inputs, n_neurons), stddev=stddev)\n",
        "        W = tf.Variable(init, name=\"kernel\")\n",
        "        b = tf.Variable(tf.zeros([n_neurons]), name=\"bias\")\n",
        "        Z = tf.matmul(X, W) + b\n",
        "        if activation is not None:\n",
        "            return activation(Z)\n",
        "        else:\n",
        "            return Z"
      ],
      "execution_count": 0,
      "outputs": []
    },
    {
      "metadata": {
        "id": "9uD5N4cADTiS",
        "colab_type": "text"
      },
      "cell_type": "markdown",
      "source": [
        "define the hyperparameters for the model"
      ]
    },
    {
      "metadata": {
        "id": "L2BGqKEbDTiS",
        "colab_type": "code",
        "colab": {}
      },
      "cell_type": "code",
      "source": [
        "#set height & width\n",
        "height = 128\n",
        "width = 128 \n",
        "\n",
        "# 300 and 100 nodes for layers 1 and 2 as used with MNIST from Geron\n",
        "n_hidden1 = 2000\n",
        "n_hidden2 = 1500\n",
        "n_hidden3 = 1000\n",
        "n_hidden4 = 500\n",
        "\n",
        "channels = 1  # When working with color images use channels = 3\n",
        "\n",
        "n_inputs = height * width\n",
        "\n",
        "#CatsDogs# Has two output values # MNIST had ten digits n_outputs = 10  \n",
        "n_outputs = 2  # binary classification for Cats and Dogs, 1 output node 0/1\n",
        "\n",
        "reset_graph()\n",
        "\n",
        "# dnn... Deep neural network model from Geron Chapter 10\n",
        "# Note that this model makes no use of the fact that we have\n",
        "# pixel data arranged in rows and columns\n",
        "# So a 64x64 matrix of raster values becomes a vector of 4096 input variables\n",
        "X = tf.placeholder(tf.float32, shape=(None, n_inputs), name=\"X\")\n",
        "y = tf.placeholder(tf.int32, shape=(None), name=\"y\")"
      ],
      "execution_count": 0,
      "outputs": []
    },
    {
      "metadata": {
        "id": "835VwtSMDTiT",
        "colab_type": "text"
      },
      "cell_type": "markdown",
      "source": [
        "define the model - 5 layer deep neural network (dnn)"
      ]
    },
    {
      "metadata": {
        "id": "0ZHwCdOpDTiU",
        "colab_type": "code",
        "colab": {}
      },
      "cell_type": "code",
      "source": [
        "with tf.name_scope(\"dnn\"):\n",
        "    hidden1 = neuron_layer(X, n_hidden1, name=\"hidden1\",\n",
        "                           activation=tf.nn.relu)\n",
        "    hidden2 = neuron_layer(hidden1, n_hidden2, name=\"hidden2\",\n",
        "                           activation=tf.nn.relu)\n",
        "    hidden3 = neuron_layer(hidden2, n_hidden3, name=\"hidden3\",\n",
        "                           activation=tf.nn.relu)\n",
        "    hidden4 = neuron_layer(hidden3, n_hidden4, name=\"hidden4\",\n",
        "                           activation=tf.nn.relu)\n",
        "    logits = neuron_layer(hidden2, n_outputs, name=\"outputs\")\n",
        "\n",
        "with tf.name_scope(\"loss\"):\n",
        "    xentropy = tf.nn.sparse_softmax_cross_entropy_with_logits(labels=y,\n",
        "                                                              logits=logits)\n",
        "    loss = tf.reduce_mean(xentropy, name=\"loss\")\n",
        "\n",
        "learning_rate = 0.01\n",
        "\n",
        "with tf.name_scope(\"train\"):\n",
        "    optimizer = tf.train.GradientDescentOptimizer(learning_rate)\n",
        "    training_op = optimizer.minimize(loss)\n",
        "    \n",
        "with tf.name_scope(\"eval\"):\n",
        "    correct = tf.nn.in_top_k(logits, y, 1)\n",
        "    accuracy = tf.reduce_mean(tf.cast(correct, tf.float32))    \n",
        "\n",
        "init = tf.global_variables_initializer()\n",
        "saver = tf.train.Saver()"
      ],
      "execution_count": 0,
      "outputs": []
    },
    {
      "metadata": {
        "id": "SaGvPdW5DTiU",
        "colab_type": "text"
      },
      "cell_type": "markdown",
      "source": [
        "## Model 1 - 50 epochs using Min_max scaler"
      ]
    },
    {
      "metadata": {
        "id": "N_agDpW2DTiU",
        "colab_type": "code",
        "colab": {},
        "outputId": "2e408872-224f-41fc-9861-9226559d35f1"
      },
      "cell_type": "code",
      "source": [
        "%%time\n",
        "\n",
        "init = tf.global_variables_initializer()    \n",
        "\n",
        "n_epochs = 50\n",
        "batch_size = 100\n",
        "\n",
        "with tf.Session() as sess:\n",
        "    init.run()\n",
        "    for epoch in range(n_epochs):\n",
        "        for iteration in range(y_train_m1.shape[0] // batch_size):\n",
        "            X_batch = X_train_m1[iteration*batch_size:(iteration + 1)*batch_size,:]\n",
        "            y_batch = y_train_m1[iteration*batch_size:(iteration + 1)*batch_size]\n",
        "            sess.run(training_op, feed_dict={X: X_batch, y: y_batch})\n",
        "        acc_train = accuracy.eval(feed_dict={X: X_batch, y: y_batch})\n",
        "        acc_test = accuracy.eval(feed_dict={X: X_test_m1, y: y_test_m1})\n",
        "        print(epoch, \"Train accuracy:\", acc_train, \"Test accuracy:\", acc_test)\n",
        "\n",
        "        save_path = saver.save(sess, \"./my_catdog_model_m1\")"
      ],
      "execution_count": 0,
      "outputs": [
        {
          "output_type": "stream",
          "text": [
            "0 Train accuracy: 0.63 Test accuracy: 0.5075\n",
            "1 Train accuracy: 0.65 Test accuracy: 0.515\n",
            "2 Train accuracy: 0.71 Test accuracy: 0.525\n",
            "3 Train accuracy: 0.71 Test accuracy: 0.525\n",
            "4 Train accuracy: 0.77 Test accuracy: 0.53\n",
            "5 Train accuracy: 0.75 Test accuracy: 0.53\n",
            "6 Train accuracy: 0.79 Test accuracy: 0.5325\n",
            "7 Train accuracy: 0.79 Test accuracy: 0.535\n",
            "8 Train accuracy: 0.79 Test accuracy: 0.5375\n",
            "9 Train accuracy: 0.78 Test accuracy: 0.5375\n",
            "10 Train accuracy: 0.86 Test accuracy: 0.58\n",
            "11 Train accuracy: 0.88 Test accuracy: 0.5775\n",
            "12 Train accuracy: 0.9 Test accuracy: 0.5775\n",
            "13 Train accuracy: 0.8 Test accuracy: 0.5425\n",
            "14 Train accuracy: 0.79 Test accuracy: 0.535\n",
            "15 Train accuracy: 0.88 Test accuracy: 0.5775\n",
            "16 Train accuracy: 0.78 Test accuracy: 0.5375\n",
            "17 Train accuracy: 0.75 Test accuracy: 0.5575\n",
            "18 Train accuracy: 0.91 Test accuracy: 0.585\n",
            "19 Train accuracy: 0.94 Test accuracy: 0.595\n",
            "20 Train accuracy: 0.94 Test accuracy: 0.58\n",
            "21 Train accuracy: 0.86 Test accuracy: 0.5675\n",
            "22 Train accuracy: 0.94 Test accuracy: 0.5775\n",
            "23 Train accuracy: 0.76 Test accuracy: 0.5175\n",
            "24 Train accuracy: 0.76 Test accuracy: 0.5175\n",
            "25 Train accuracy: 0.75 Test accuracy: 0.5075\n",
            "26 Train accuracy: 0.78 Test accuracy: 0.5225\n",
            "27 Train accuracy: 0.81 Test accuracy: 0.5225\n",
            "28 Train accuracy: 0.88 Test accuracy: 0.5875\n",
            "29 Train accuracy: 0.98 Test accuracy: 0.5825\n",
            "30 Train accuracy: 0.98 Test accuracy: 0.5825\n",
            "31 Train accuracy: 0.97 Test accuracy: 0.5775\n",
            "32 Train accuracy: 0.98 Test accuracy: 0.59\n",
            "33 Train accuracy: 0.9 Test accuracy: 0.535\n",
            "34 Train accuracy: 0.87 Test accuracy: 0.53\n",
            "35 Train accuracy: 0.85 Test accuracy: 0.525\n",
            "36 Train accuracy: 0.85 Test accuracy: 0.5225\n",
            "37 Train accuracy: 0.85 Test accuracy: 0.5625\n",
            "38 Train accuracy: 0.98 Test accuracy: 0.585\n",
            "39 Train accuracy: 0.98 Test accuracy: 0.5875\n",
            "40 Train accuracy: 0.98 Test accuracy: 0.5875\n",
            "41 Train accuracy: 0.99 Test accuracy: 0.6\n",
            "42 Train accuracy: 0.97 Test accuracy: 0.5875\n",
            "43 Train accuracy: 0.72 Test accuracy: 0.4875\n",
            "44 Train accuracy: 0.93 Test accuracy: 0.535\n",
            "45 Train accuracy: 0.91 Test accuracy: 0.525\n",
            "46 Train accuracy: 0.78 Test accuracy: 0.5075\n",
            "47 Train accuracy: 0.95 Test accuracy: 0.54\n",
            "48 Train accuracy: 0.93 Test accuracy: 0.57\n",
            "49 Train accuracy: 0.99 Test accuracy: 0.5875\n",
            "CPU times: user 14min 27s, sys: 35.3 s, total: 15min 3s\n",
            "Wall time: 2min\n"
          ],
          "name": "stdout"
        }
      ]
    },
    {
      "metadata": {
        "id": "ALdfr99VDTiV",
        "colab_type": "text"
      },
      "cell_type": "markdown",
      "source": [
        "## Model 2 - 75 epochs using Robust scaler"
      ]
    },
    {
      "metadata": {
        "id": "tQb5HduPDTiW",
        "colab_type": "code",
        "colab": {},
        "outputId": "f149c982-ac60-4cd5-96b1-62e0b03eaa0f"
      },
      "cell_type": "code",
      "source": [
        "%%time\n",
        "\n",
        "init = tf.global_variables_initializer()    \n",
        "\n",
        "n_epochs = 75\n",
        "batch_size = 100\n",
        "\n",
        "with tf.Session() as sess:\n",
        "    init.run()\n",
        "    for epoch in range(n_epochs):\n",
        "        for iteration in range(y_train_m2.shape[0] // batch_size):\n",
        "            X_batch = X_train_m2[iteration*batch_size:(iteration + 1)*batch_size,:]\n",
        "            y_batch = y_train_m2[iteration*batch_size:(iteration + 1)*batch_size]\n",
        "            sess.run(training_op, feed_dict={X: X_batch, y: y_batch})\n",
        "        acc_train = accuracy.eval(feed_dict={X: X_batch, y: y_batch})\n",
        "        acc_test = accuracy.eval(feed_dict={X: X_test_m2, y: y_test_m2})\n",
        "        print(epoch, \"Train accuracy:\", acc_train, \"Test accuracy:\", acc_test)\n",
        "\n",
        "        save_path = saver.save(sess, \"./my_catdog_model_m2\")"
      ],
      "execution_count": 0,
      "outputs": [
        {
          "output_type": "stream",
          "text": [
            "0 Train accuracy: 0.6 Test accuracy: 0.4825\n",
            "1 Train accuracy: 0.64 Test accuracy: 0.5475\n",
            "2 Train accuracy: 0.85 Test accuracy: 0.4975\n",
            "3 Train accuracy: 0.96 Test accuracy: 0.5225\n",
            "4 Train accuracy: 1.0 Test accuracy: 0.5425\n",
            "5 Train accuracy: 1.0 Test accuracy: 0.5175\n",
            "6 Train accuracy: 1.0 Test accuracy: 0.5175\n",
            "7 Train accuracy: 1.0 Test accuracy: 0.5225\n",
            "8 Train accuracy: 1.0 Test accuracy: 0.5375\n",
            "9 Train accuracy: 1.0 Test accuracy: 0.5525\n",
            "10 Train accuracy: 1.0 Test accuracy: 0.55\n",
            "11 Train accuracy: 1.0 Test accuracy: 0.55\n",
            "12 Train accuracy: 1.0 Test accuracy: 0.55\n",
            "13 Train accuracy: 1.0 Test accuracy: 0.545\n",
            "14 Train accuracy: 1.0 Test accuracy: 0.5475\n",
            "15 Train accuracy: 1.0 Test accuracy: 0.55\n",
            "16 Train accuracy: 1.0 Test accuracy: 0.55\n",
            "17 Train accuracy: 1.0 Test accuracy: 0.545\n",
            "18 Train accuracy: 1.0 Test accuracy: 0.545\n",
            "19 Train accuracy: 1.0 Test accuracy: 0.5475\n",
            "20 Train accuracy: 1.0 Test accuracy: 0.5425\n",
            "21 Train accuracy: 1.0 Test accuracy: 0.5425\n",
            "22 Train accuracy: 1.0 Test accuracy: 0.545\n",
            "23 Train accuracy: 1.0 Test accuracy: 0.545\n",
            "24 Train accuracy: 1.0 Test accuracy: 0.545\n",
            "25 Train accuracy: 1.0 Test accuracy: 0.545\n",
            "26 Train accuracy: 1.0 Test accuracy: 0.5475\n",
            "27 Train accuracy: 1.0 Test accuracy: 0.5475\n",
            "28 Train accuracy: 1.0 Test accuracy: 0.545\n",
            "29 Train accuracy: 1.0 Test accuracy: 0.5525\n",
            "30 Train accuracy: 1.0 Test accuracy: 0.5525\n",
            "31 Train accuracy: 1.0 Test accuracy: 0.55\n",
            "32 Train accuracy: 1.0 Test accuracy: 0.5525\n",
            "33 Train accuracy: 1.0 Test accuracy: 0.5525\n",
            "34 Train accuracy: 1.0 Test accuracy: 0.555\n",
            "35 Train accuracy: 1.0 Test accuracy: 0.555\n",
            "36 Train accuracy: 1.0 Test accuracy: 0.5525\n",
            "37 Train accuracy: 1.0 Test accuracy: 0.555\n",
            "38 Train accuracy: 1.0 Test accuracy: 0.555\n",
            "39 Train accuracy: 1.0 Test accuracy: 0.555\n",
            "40 Train accuracy: 1.0 Test accuracy: 0.5575\n",
            "41 Train accuracy: 1.0 Test accuracy: 0.5575\n",
            "42 Train accuracy: 1.0 Test accuracy: 0.5575\n",
            "43 Train accuracy: 1.0 Test accuracy: 0.5575\n",
            "44 Train accuracy: 1.0 Test accuracy: 0.5575\n",
            "45 Train accuracy: 1.0 Test accuracy: 0.5575\n",
            "46 Train accuracy: 1.0 Test accuracy: 0.5575\n",
            "47 Train accuracy: 1.0 Test accuracy: 0.5575\n",
            "48 Train accuracy: 1.0 Test accuracy: 0.555\n",
            "49 Train accuracy: 1.0 Test accuracy: 0.555\n",
            "50 Train accuracy: 1.0 Test accuracy: 0.555\n",
            "51 Train accuracy: 1.0 Test accuracy: 0.555\n",
            "52 Train accuracy: 1.0 Test accuracy: 0.555\n",
            "53 Train accuracy: 1.0 Test accuracy: 0.555\n",
            "54 Train accuracy: 1.0 Test accuracy: 0.555\n",
            "55 Train accuracy: 1.0 Test accuracy: 0.555\n",
            "56 Train accuracy: 1.0 Test accuracy: 0.5525\n",
            "57 Train accuracy: 1.0 Test accuracy: 0.5525\n",
            "58 Train accuracy: 1.0 Test accuracy: 0.5525\n",
            "59 Train accuracy: 1.0 Test accuracy: 0.555\n",
            "60 Train accuracy: 1.0 Test accuracy: 0.555\n",
            "61 Train accuracy: 1.0 Test accuracy: 0.555\n",
            "62 Train accuracy: 1.0 Test accuracy: 0.555\n",
            "63 Train accuracy: 1.0 Test accuracy: 0.555\n",
            "64 Train accuracy: 1.0 Test accuracy: 0.555\n",
            "65 Train accuracy: 1.0 Test accuracy: 0.5525\n",
            "66 Train accuracy: 1.0 Test accuracy: 0.5525\n",
            "67 Train accuracy: 1.0 Test accuracy: 0.5525\n",
            "68 Train accuracy: 1.0 Test accuracy: 0.5525\n",
            "69 Train accuracy: 1.0 Test accuracy: 0.5525\n",
            "70 Train accuracy: 1.0 Test accuracy: 0.5525\n",
            "71 Train accuracy: 1.0 Test accuracy: 0.5525\n",
            "72 Train accuracy: 1.0 Test accuracy: 0.5575\n",
            "73 Train accuracy: 1.0 Test accuracy: 0.56\n",
            "74 Train accuracy: 1.0 Test accuracy: 0.56\n",
            "CPU times: user 22min 30s, sys: 56.5 s, total: 23min 27s\n",
            "Wall time: 3min 9s\n"
          ],
          "name": "stdout"
        }
      ]
    },
    {
      "metadata": {
        "id": "BlpMwfGHDTiX",
        "colab_type": "text"
      },
      "cell_type": "markdown",
      "source": [
        "## Model 3 - 100 epochs using Convolutional Neural Network (CNN)\n",
        "data source - 64 x 64 color images passed through CNN using tflearn"
      ]
    },
    {
      "metadata": {
        "id": "6zPjoBAgDTiX",
        "colab_type": "text"
      },
      "cell_type": "markdown",
      "source": [
        "#### hyperparameter setup & image transformation\n",
        "http://www.subsubroutine.com/sub-subroutine/2016/9/30/cats-and-dogs-and-convolutional-neural-networks"
      ]
    },
    {
      "metadata": {
        "id": "HZc7gvAaDTiX",
        "colab_type": "code",
        "colab": {}
      },
      "cell_type": "code",
      "source": [
        "reset_graph()\n",
        "\n",
        "#set height & width\n",
        "height = 64\n",
        "width = 64\n",
        "channels = 3\n",
        "\n",
        "###################################\n",
        "# Image transformations\n",
        "###################################\n",
        "\n",
        "# normalisation of images\n",
        "img_prep = ImagePreprocessing()\n",
        "img_prep.add_featurewise_zero_center()\n",
        "img_prep.add_featurewise_stdnorm()\n",
        "\n",
        "# Create extra synthetic training data by flipping & rotating images\n",
        "img_aug = ImageAugmentation()\n",
        "img_aug.add_random_flip_leftright()\n",
        "img_aug.add_random_rotation(max_angle=25.)"
      ],
      "execution_count": 0,
      "outputs": []
    },
    {
      "metadata": {
        "id": "XcAKntHdDTiY",
        "colab_type": "code",
        "colab": {}
      },
      "cell_type": "code",
      "source": [
        "###################################\n",
        "# Define network architecture\n",
        "###################################\n",
        "\n",
        "# Input is a 32x32 image with 3 color channels (red, green and blue)\n",
        "network = input_data(shape=[None, 64, 64, 3],\n",
        "                     data_preprocessing=img_prep,\n",
        "                     data_augmentation=img_aug)\n",
        "\n",
        "# 1: Convolution layer with 32 filters, each 3x3x3\n",
        "conv_1 = conv_2d(network, 32, 3, activation='relu', name='conv_1')\n",
        "\n",
        "# 2: Max pooling layer\n",
        "network = max_pool_2d(conv_1, 2)\n",
        "\n",
        "# 3: Convolution layer with 64 filters\n",
        "conv_2 = conv_2d(network, 64, 3, activation='relu', name='conv_2')\n",
        "\n",
        "# 4: Convolution layer with 64 filters\n",
        "conv_3 = conv_2d(conv_2, 64, 3, activation='relu', name='conv_3')\n",
        "\n",
        "# 5: Max pooling layer\n",
        "network = max_pool_2d(conv_3, 2)\n",
        "\n",
        "# 6: Fully-connected 512 node layer\n",
        "network = fully_connected(network, 512, activation='relu')\n",
        "\n",
        "# 7: Dropout layer to combat overfitting\n",
        "network = dropout(network, 0.5)\n",
        "\n",
        "# 8: Fully-connected layer with two outputs\n",
        "network = fully_connected(network, 2, activation='softmax')\n",
        "\n",
        "# Configure how the network will be trained\n",
        "acc = Accuracy(name=\"Accuracy\")\n",
        "network = regression(network, optimizer='adam',\n",
        "                     loss='categorical_crossentropy',\n",
        "                     learning_rate=0.0005, metric=acc)\n",
        "\n",
        "# Wrap the network in a model object\n",
        "model = tflearn.DNN(network, checkpoint_path='model_cat_dog_6.tflearn', max_checkpoints = 3,\n",
        "                    tensorboard_verbose = 3, tensorboard_dir='tmp/tflearn_logs/')"
      ],
      "execution_count": 0,
      "outputs": []
    },
    {
      "metadata": {
        "id": "zGdaogbKDTiZ",
        "colab_type": "code",
        "colab": {},
        "outputId": "7f145efd-ec52-4cae-c7e0-79c4a560d63f"
      },
      "cell_type": "code",
      "source": [
        "%%time\n",
        "###################################\n",
        "# Train model for 100 epochs\n",
        "###################################\n",
        "model.fit(X_m3, Y_m3, validation_set=(X_test_m3, Y_test_m3), batch_size=500,\n",
        "      n_epoch=100, run_id='model_cat_dog_6', show_metric=True)\n",
        "\n",
        "model.save('model_cat_dog_6_final.tflearn')"
      ],
      "execution_count": 0,
      "outputs": [
        {
          "output_type": "stream",
          "text": [
            "Training Step: 401  | total loss: \u001b[1m\u001b[32m0.18230\u001b[0m\u001b[0m | time: 7.681s\n",
            "| Adam | epoch: 101 | loss: 0.18230 - Accuracy: 0.9346 -- iter: 1500/1600\n",
            "Training Step: 402  | total loss: \u001b[1m\u001b[32m0.17449\u001b[0m\u001b[0m | time: 9.571s\n",
            "| Adam | epoch: 101 | loss: 0.17449 - Accuracy: 0.9391 | val_loss: 0.57675 - val_acc: 0.7575 -- iter: 1600/1600\n",
            "--\n",
            "CPU times: user 2h 2min 33s, sys: 19min 1s, total: 2h 21min 34s\n",
            "Wall time: 17min 59s\n"
          ],
          "name": "stdout"
        }
      ]
    },
    {
      "metadata": {
        "id": "xaLQRnzyDTia",
        "colab_type": "text"
      },
      "cell_type": "markdown",
      "source": [
        "## Conclusion\n",
        "\n",
        "#### Model 1 - 5 layer DNN using Min_Max scaler (50 epochs) - time: 15 mins accuracy: training = .99 / test .58 (overfit)\n",
        "#### Model 2 - 5 layer DNN using Robust scaler (75 epochs) - time: 23 mins accuracy: training = 1 / test .58 (overfit)\n",
        "#### Model 3 - tflearn CNN using (64 x 64 x 3) (100 epochs) - time: 18 mins; accuracy = .93 (*recommended model)\n",
        "\n",
        "In the case of image recognition, traditional deep neural network (dnn) models under perform regardless of hidden layer configuration or number of epochs.  This is likely due to their inability to drop inputs.  Instead, Model 3 uses a technique that convoludes (filters) the input multiple times, pools the data and then feeds that into a 'fully connected' dnn model over multiple layers.  This takes a lot more computing power to process, but the result is a much higher predictive accuracy."
      ]
    },
    {
      "metadata": {
        "id": "4lT0V5FaDTia",
        "colab_type": "code",
        "colab": {}
      },
      "cell_type": "code",
      "source": [
        ""
      ],
      "execution_count": 0,
      "outputs": []
    }
  ]
}